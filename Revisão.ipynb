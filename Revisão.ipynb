{
 "cells": [
  {
   "cell_type": "code",
   "execution_count": 50,
   "metadata": {},
   "outputs": [],
   "source": [
    "%matplotlib inline\n",
    "from sklearn.model_selection import KFold\n",
    "from sklearn import datasets\n",
    "from sklearn import linear_model, neighbors, svm, naive_bayes\n",
    "\n",
    "from sklearn import preprocessing\n",
    "from sklearn import metrics\n",
    "\n",
    "import numpy as np\n"
   ]
  },
  {
   "cell_type": "code",
   "execution_count": 16,
   "metadata": {},
   "outputs": [
    {
     "data": {
      "text/plain": [
       "KFold(n_splits=5, random_state=None, shuffle=False)"
      ]
     },
     "execution_count": 16,
     "metadata": {},
     "output_type": "execute_result"
    }
   ],
   "source": [
    "kfold = KFold(n_splits=5)\n",
    "kfold"
   ]
  },
  {
   "cell_type": "markdown",
   "metadata": {},
   "source": [
    "## Regressão"
   ]
  },
  {
   "cell_type": "code",
   "execution_count": 6,
   "metadata": {},
   "outputs": [],
   "source": [
    "X,y = datasets.load_boston(return_X_y=True)"
   ]
  },
  {
   "cell_type": "code",
   "execution_count": 10,
   "metadata": {},
   "outputs": [],
   "source": [
    "modelSGD = linear_model.SGDRegressor()\n",
    "modelLR = linear_model.LinearRegression()\n",
    "modelKNN = neighbors.KNeighborsRegressor()\n",
    "modelSVM = svm.SVR()"
   ]
  },
  {
   "cell_type": "code",
   "execution_count": 20,
   "metadata": {},
   "outputs": [],
   "source": [
    "def fazer(model,y_true, X_test, mae,rmse):\n",
    "    y_pred = model.predict(X_test)\n",
    "    mae += metrics.mean_absolute_error(y_true,y_pred)\n",
    "    rmse += metrics.mean_squared_error(y_true,y_pred)\n",
    "    return mae,rmse"
   ]
  },
  {
   "cell_type": "code",
   "execution_count": 61,
   "metadata": {},
   "outputs": [
    {
     "name": "stdout",
     "output_type": "stream",
     "text": [
      "SGD- MAE: 0.21300270141277916 RMSE: 0.26677212991217847\n",
      "LR- MAE: 0.199259469258038 RMSE: 0.2534299306685874\n",
      "KNN- MAE: 0.05978264244682503 RMSE: 0.0\n",
      "SVM- MAE: 0.13099312174182298 RMSE: 0.11653827815920793\n"
     ]
    },
    {
     "name": "stderr",
     "output_type": "stream",
     "text": [
      "/home/segundo/anaconda3/lib/python3.5/site-packages/sklearn/linear_model/stochastic_gradient.py:128: FutureWarning: max_iter and tol parameters have been added in <class 'sklearn.linear_model.stochastic_gradient.SGDRegressor'> in 0.19. If both are left unset, they default to max_iter=5 and tol=None. If tol is not None, max_iter defaults to max_iter=1000. From 0.21, default max_iter will be 1000, and default tol will be 1e-3.\n",
      "  \"and default tol will be 1e-3.\" % type(self), FutureWarning)\n"
     ]
    }
   ],
   "source": [
    "mae1= 0.0\n",
    "mae2= 0.0\n",
    "mae3= 0.0\n",
    "mae4 = 0.0\n",
    "rmse1= 0.0\n",
    "rmse2= 0.0\n",
    "rmse3 = 0.0\n",
    "rmse4 = 0.0\n",
    "\n",
    "for train_index,test_index in kfold.split(X):\n",
    "    X_train = X[train_index]\n",
    "    y_train = y[train_index]\n",
    "    X_test = X[test_index]\n",
    "    y_test = y[test_index]\n",
    "    \n",
    "    scale = preprocessing.StandardScaler().fit(X_train)\n",
    "    X_train_std = scale.transform(X_train)\n",
    "    X_test_std = scale.transform(X_test)\n",
    "    \n",
    "    modelSGD.fit(X_train_std,y_train)\n",
    "    modelLR.fit(X_train_std,y_train)\n",
    "    modelKNN.fit(X_train_std,y_train)\n",
    "    modelSVM.fit(X_train_std,y_train)\n",
    "    \n",
    "    #y_pred = model.predict(X_test)\n",
    "    #mae += metrics.mean_absolute_error(y_true,y_pred)\n",
    "    #rmse += metrics.mean_squared_error(y_true,y_pred)\n",
    "    \n",
    "    mae1,rmse1 = fazer(modelSGD,y_test,X_test_std,mae1,rmse1)\n",
    "    mae2,rmse2 = fazer(modelLR,y_test,X_test_std,mae2,rmse2)\n",
    "    mae3,rmse4 = fazer(modelKNN,y_test,X_test_std,mae3,rmse3)\n",
    "    mae4,rmse4 = fazer(modelSVM,y_test,X_test_std,mae4,rmse4)\n",
    "\n",
    "print(\"SGD- MAE: \"+ str((mae1/5)) + \" RMSE: \"+ str(np.sqrt(rmse1/5)))\n",
    "print(\"LR- MAE: \"+ str((mae2/5)) + \" RMSE: \"+ str(np.sqrt(rmse2/5)))\n",
    "print(\"KNN- MAE: \"+ str((mae3/5)) + \" RMSE: \"+ str(np.sqrt(rmse3/5)))\n",
    "print(\"SVM- MAE: \"+ str((mae4/5)) + \" RMSE: \"+ str(np.sqrt(rmse4/5)))"
   ]
  },
  {
   "cell_type": "code",
   "execution_count": 27,
   "metadata": {},
   "outputs": [],
   "source": [
    "model = neighbors.KNeighborsRegressor()"
   ]
  },
  {
   "cell_type": "code",
   "execution_count": 29,
   "metadata": {},
   "outputs": [],
   "source": [
    "scale = preprocessing.StandardScaler().fit(X)"
   ]
  },
  {
   "cell_type": "code",
   "execution_count": 40,
   "metadata": {},
   "outputs": [
    {
     "data": {
      "text/plain": [
       "KNeighborsRegressor(algorithm='auto', leaf_size=30, metric='minkowski',\n",
       "          metric_params=None, n_jobs=1, n_neighbors=5, p=2,\n",
       "          weights='uniform')"
      ]
     },
     "execution_count": 40,
     "metadata": {},
     "output_type": "execute_result"
    }
   ],
   "source": [
    "X_std = scale.transform(X)\n",
    "model.fit(X_std,y)"
   ]
  },
  {
   "cell_type": "code",
   "execution_count": 41,
   "metadata": {},
   "outputs": [],
   "source": [
    "y_pred = model.predict(X_std)"
   ]
  },
  {
   "cell_type": "markdown",
   "metadata": {},
   "source": [
    "## Classificação"
   ]
  },
  {
   "cell_type": "code",
   "execution_count": 42,
   "metadata": {},
   "outputs": [],
   "source": [
    "X,y = datasets.load_breast_cancer(return_X_y=True)"
   ]
  },
  {
   "cell_type": "code",
   "execution_count": 49,
   "metadata": {},
   "outputs": [],
   "source": [
    "modelLoR = linear_model.LogisticRegression()\n",
    "modelKNNC = neighbors.KNeighborsClassifier()\n",
    "modelNB = naive_bayes.GaussianNB()\n",
    "modelSVC = svm.SVC(probability=True)"
   ]
  },
  {
   "cell_type": "code",
   "execution_count": 63,
   "metadata": {},
   "outputs": [],
   "source": [
    "def fazer2(model,y_true, X_test):\n",
    "    y_pred = model.predict(X_test)\n",
    "    Accuracy = metrics.accuracy_score(y_true,y_pred)\n",
    "    print(metrics.confusion_matrix(y_true, y_pred))\n",
    "    return Accuracy"
   ]
  },
  {
   "cell_type": "code",
   "execution_count": 64,
   "metadata": {},
   "outputs": [
    {
     "name": "stdout",
     "output_type": "stream",
     "text": [
      "[[58 10]\n",
      " [ 1 45]]\n",
      "[[62  6]\n",
      " [ 2 44]]\n",
      "[[58 10]\n",
      " [ 4 42]]\n",
      "[[52 16]\n",
      " [ 0 46]]\n",
      "[[42  7]\n",
      " [ 0 65]]\n",
      "[[45  4]\n",
      " [ 0 65]]\n",
      "[[43  6]\n",
      " [ 2 63]]\n",
      "[[40  9]\n",
      " [ 0 65]]\n",
      "[[36  4]\n",
      " [ 0 74]]\n",
      "[[36  4]\n",
      " [ 0 74]]\n",
      "[[37  3]\n",
      " [ 3 71]]\n",
      "[[36  4]\n",
      " [ 0 74]]\n",
      "[[28  1]\n",
      " [ 1 84]]\n",
      "[[27  2]\n",
      " [ 0 85]]\n",
      "[[27  2]\n",
      " [ 1 84]]\n",
      "[[27  2]\n",
      " [ 0 85]]\n",
      "[[26  0]\n",
      " [ 1 86]]\n",
      "[[26  0]\n",
      " [ 4 83]]\n",
      "[[24  2]\n",
      " [ 7 80]]\n",
      "[[24  2]\n",
      " [ 1 86]]\n",
      "LOR- acuracy: 0.9561248253376805\n",
      "KNN- acuracy: 0.9613414066138798\n",
      "NB- acuracy: 0.9296848315478963\n",
      "SVM- acuracy: 0.9403043005744449\n"
     ]
    }
   ],
   "source": [
    "Accuracy1= 0.0\n",
    "Accuracy2= 0.0\n",
    "Accuracy3= 0.0\n",
    "Accuracy4= 0.0\n",
    "#mae2= 0.0\n",
    "#mae3= 0.0\n",
    "#mae4 = 0.0\n",
    "#rmse1= 0.0\n",
    "#rmse2= 0.0\n",
    "#rmse3 = 0.0\n",
    "#rmse4 = 0.0\n",
    "\n",
    "for train_index,test_index in kfold.split(X):\n",
    "    X_train = X[train_index]\n",
    "    y_train = y[train_index]\n",
    "    X_test = X[test_index]\n",
    "    y_test = y[test_index]\n",
    "    \n",
    "    norm = preprocessing.MinMaxScaler().fit(X_train)\n",
    "    X_train_std = norm.transform(X_train)\n",
    "    X_test_std = norm.transform(X_test)\n",
    "    \n",
    "    modelLoR.fit(X_train_std,y_train)\n",
    "    modelKNNC.fit(X_train_std,y_train)\n",
    "    modelNB.fit(X_train_std,y_train)\n",
    "    modelSVC.fit(X_train_std,y_train)\n",
    "    \n",
    "    #y_pred = model.predict(X_test)\n",
    "    #mae += metrics.mean_absolute_error(y_true,y_pred)\n",
    "    #rmse += metrics.mean_squared_error(y_true,y_pred)\n",
    "    \n",
    "    Accuracy1 += fazer2(modelLoR,y_test,X_test_std)\n",
    "    Accuracy2 += fazer2(modelKNNC,y_test,X_test_std)\n",
    "    Accuracy3 += fazer2(modelNB,y_test,X_test_std)\n",
    "    Accuracy4 += fazer2(modelSVC,y_test,X_test_std)\n",
    "\n",
    "print(\"LOR- acuracy: \"+ str((Accuracy1/5)))\n",
    "print(\"KNN- acuracy: \"+ str((Accuracy2/5)))\n",
    "print(\"NB- acuracy: \"+ str((Accuracy3/5)))\n",
    "print(\"SVM- acuracy: \"+ str((Accuracy4/5)))"
   ]
  },
  {
   "cell_type": "code",
   "execution_count": 106,
   "metadata": {},
   "outputs": [],
   "source": [
    "model = neighbors.KNeighborsClassifier()"
   ]
  },
  {
   "cell_type": "code",
   "execution_count": 107,
   "metadata": {},
   "outputs": [],
   "source": [
    "norm = preprocessing.MinMaxScaler().fit(X)"
   ]
  },
  {
   "cell_type": "code",
   "execution_count": 108,
   "metadata": {},
   "outputs": [],
   "source": [
    "X_norm = norm.transform(X)"
   ]
  },
  {
   "cell_type": "code",
   "execution_count": 109,
   "metadata": {},
   "outputs": [
    {
     "data": {
      "text/plain": [
       "KNeighborsClassifier(algorithm='auto', leaf_size=30, metric='minkowski',\n",
       "           metric_params=None, n_jobs=1, n_neighbors=5, p=2,\n",
       "           weights='uniform')"
      ]
     },
     "execution_count": 109,
     "metadata": {},
     "output_type": "execute_result"
    }
   ],
   "source": [
    "model.fit(X_norm,y)"
   ]
  },
  {
   "cell_type": "code",
   "execution_count": 110,
   "metadata": {},
   "outputs": [],
   "source": [
    "y_pred = model.predict(X_norm)"
   ]
  },
  {
   "cell_type": "code",
   "execution_count": 111,
   "metadata": {},
   "outputs": [],
   "source": [
    "a = [y_pred[i] == y[i] for i in range(0,len(y))]"
   ]
  },
  {
   "cell_type": "code",
   "execution_count": 112,
   "metadata": {},
   "outputs": [
    {
     "data": {
      "text/plain": [
       "557"
      ]
     },
     "execution_count": 112,
     "metadata": {},
     "output_type": "execute_result"
    }
   ],
   "source": [
    "a.count(True)"
   ]
  },
  {
   "cell_type": "code",
   "execution_count": null,
   "metadata": {},
   "outputs": [],
   "source": []
  }
 ],
 "metadata": {
  "kernelspec": {
   "display_name": "Python [conda env:anaconda3]",
   "language": "python",
   "name": "conda-env-anaconda3-py"
  },
  "language_info": {
   "codemirror_mode": {
    "name": "ipython",
    "version": 3
   },
   "file_extension": ".py",
   "mimetype": "text/x-python",
   "name": "python",
   "nbconvert_exporter": "python",
   "pygments_lexer": "ipython3",
   "version": "3.5.5"
  }
 },
 "nbformat": 4,
 "nbformat_minor": 2
}
