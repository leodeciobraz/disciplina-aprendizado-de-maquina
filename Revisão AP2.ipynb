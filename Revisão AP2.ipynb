{
 "cells": [
  {
   "cell_type": "code",
   "execution_count": 1,
   "metadata": {},
   "outputs": [],
   "source": [
    "%matplotlib inline\n",
    "from sklearn import datasets\n",
    "from sklearn import linear_model, svm, neighbors, naive_bayes\n",
    "from sklearn.model_selection import KFold\n",
    "from sklearn import metrics, preprocessing\n",
    "\n",
    "from sklearn.tree import DecisionTreeRegressor,DecisionTreeClassifier\n",
    "from sklearn.ensemble import RandomForestRegressor,RandomForestClassifier\n",
    "from sklearn.ensemble import GradientBoostingRegressor,GradientBoostingClassifier\n",
    "\n",
    "from scipy.cluster.hierarchy import linkage,dendrogram, cut_tree\n",
    "from sklearn.cluster import DBSCAN, KMeans\n",
    "\n",
    "from sklearn.decomposition import PCA\n",
    "from sklearn.discriminant_analysis import LinearDiscriminantAnalysis as LDA\n",
    "\n",
    "import numpy as np\n",
    "from matplotlib import pyplot as plt\n",
    "import pandas as pd"
   ]
  },
  {
   "cell_type": "markdown",
   "metadata": {},
   "source": [
    "# Regressão"
   ]
  },
  {
   "cell_type": "markdown",
   "metadata": {},
   "source": [
    "## Lista 7"
   ]
  },
  {
   "cell_type": "code",
   "execution_count": 2,
   "metadata": {},
   "outputs": [],
   "source": [
    "kfold = KFold(n_splits=5)"
   ]
  },
  {
   "cell_type": "code",
   "execution_count": 3,
   "metadata": {},
   "outputs": [],
   "source": [
    "X_,y = datasets.load_boston(return_X_y=True)"
   ]
  },
  {
   "cell_type": "code",
   "execution_count": 4,
   "metadata": {},
   "outputs": [],
   "source": [
    "X = preprocessing.StandardScaler().fit_transform(X_)"
   ]
  },
  {
   "cell_type": "code",
   "execution_count": 5,
   "metadata": {},
   "outputs": [],
   "source": [
    "def regressao(model,X_,y_):\n",
    "    mae = 0.0\n",
    "    rmse = 0.0\n",
    "    for train_index,test_index in kfold.split(X):\n",
    "        X_train = X_[train_index]\n",
    "        y_train = y_[train_index]\n",
    "        X_test = X_[test_index]\n",
    "        y_test = y_[test_index]\n",
    "        \n",
    "        #scale = preprocessing.StandardScaler().fit(X_train)\n",
    "        #X_train_std = scale.transform(X_train)\n",
    "        #X_test_std = scale.transform(X_test)\n",
    "        \n",
    "        model.fit(X_train,y_train)\n",
    "        y_pred = model.predict(X_test)\n",
    "        \n",
    "        mae += metrics.mean_absolute_error(y_test,y_pred)\n",
    "        rmse += np.sqrt(metrics.mean_squared_error(y_test,y_pred))\n",
    "    print(\"MAE: \"+ str((mae/5)) + \" RMSE: \"+ str((rmse/5)))      "
   ]
  },
  {
   "cell_type": "code",
   "execution_count": 6,
   "metadata": {},
   "outputs": [
    {
     "name": "stdout",
     "output_type": "stream",
     "text": [
      "MAE: 4.477461174707252 RMSE: 6.442357918892371\n"
     ]
    },
    {
     "name": "stderr",
     "output_type": "stream",
     "text": [
      "/home/segundo/anaconda3/lib/python3.5/site-packages/sklearn/linear_model/stochastic_gradient.py:128: FutureWarning: max_iter and tol parameters have been added in <class 'sklearn.linear_model.stochastic_gradient.SGDRegressor'> in 0.19. If both are left unset, they default to max_iter=5 and tol=None. If tol is not None, max_iter defaults to max_iter=1000. From 0.21, default max_iter will be 1000, and default tol will be 1e-3.\n",
      "  \"and default tol will be 1e-3.\" % type(self), FutureWarning)\n"
     ]
    }
   ],
   "source": [
    "modelGD = linear_model.SGDRegressor()\n",
    "regressao(modelGD,X,y)"
   ]
  },
  {
   "cell_type": "code",
   "execution_count": 7,
   "metadata": {},
   "outputs": [
    {
     "name": "stdout",
     "output_type": "stream",
     "text": [
      "MAE: 4.256574046803889 RMSE: 5.836431226523883\n"
     ]
    }
   ],
   "source": [
    "modelLR = linear_model.LinearRegression()\n",
    "regressao(modelLR,X,y)"
   ]
  },
  {
   "cell_type": "code",
   "execution_count": 8,
   "metadata": {},
   "outputs": [
    {
     "name": "stdout",
     "output_type": "stream",
     "text": [
      "MAE: 3.7022620850320322 RMSE: 5.339938367358775\n"
     ]
    }
   ],
   "source": [
    "modelKNNR = neighbors.KNeighborsRegressor()\n",
    "regressao(modelKNNR,X,y)"
   ]
  },
  {
   "cell_type": "code",
   "execution_count": 9,
   "metadata": {},
   "outputs": [
    {
     "name": "stdout",
     "output_type": "stream",
     "text": [
      "MAE: 4.223314829625372 RMSE: 6.303613529310935\n"
     ]
    }
   ],
   "source": [
    "modelSVMR = svm.SVR()\n",
    "regressao(modelSVMR,X,y)"
   ]
  },
  {
   "cell_type": "markdown",
   "metadata": {},
   "source": [
    "## Lista 11"
   ]
  },
  {
   "cell_type": "code",
   "execution_count": 10,
   "metadata": {},
   "outputs": [],
   "source": [
    "estimativas = [50, 100, 200]\n",
    "max_depths = [3, 5, 7]\n",
    "learning_rates = [0.1, 0.05, 0.01]"
   ]
  },
  {
   "cell_type": "markdown",
   "metadata": {},
   "source": [
    "#### DecisionTreeRegressor"
   ]
  },
  {
   "cell_type": "code",
   "execution_count": 11,
   "metadata": {},
   "outputs": [
    {
     "name": "stdout",
     "output_type": "stream",
     "text": [
      "MAE: 4.030607649000194 RMSE: 6.243777829603954\n"
     ]
    }
   ],
   "source": [
    "modelDTR = DecisionTreeRegressor(random_state=0)\n",
    "regressao(modelDTR,X_,y)"
   ]
  },
  {
   "cell_type": "markdown",
   "metadata": {},
   "source": [
    "#### RandomForestRegressor"
   ]
  },
  {
   "cell_type": "code",
   "execution_count": 12,
   "metadata": {},
   "outputs": [
    {
     "name": "stdout",
     "output_type": "stream",
     "text": [
      "n_estimators= 50  - max_depth= 3\n",
      "MAE: 3.4856628137374175 RMSE: 4.856347763683925\n",
      "\n",
      "\n",
      "n_estimators= 50  - max_depth= 5\n",
      "MAE: 3.1305633141760487 RMSE: 4.565243874645683\n",
      "\n",
      "\n",
      "n_estimators= 50  - max_depth= 7\n",
      "MAE: 3.02001494827132 RMSE: 4.434732253377621\n",
      "\n",
      "\n",
      "n_estimators= 100  - max_depth= 3\n",
      "MAE: 3.487117100033391 RMSE: 4.912935744863871\n",
      "\n",
      "\n",
      "n_estimators= 100  - max_depth= 5\n",
      "MAE: 3.158014792523023 RMSE: 4.616663490981134\n",
      "\n",
      "\n",
      "n_estimators= 100  - max_depth= 7\n",
      "MAE: 3.0160595768238747 RMSE: 4.444365918044426\n",
      "\n",
      "\n",
      "n_estimators= 200  - max_depth= 3\n",
      "MAE: 3.4602282117618515 RMSE: 4.878855407477365\n",
      "\n",
      "\n",
      "n_estimators= 200  - max_depth= 5\n",
      "MAE: 3.0859432035838807 RMSE: 4.5518602682269576\n",
      "\n",
      "\n",
      "n_estimators= 200  - max_depth= 7\n",
      "MAE: 3.077672093521472 RMSE: 4.507175925132428\n",
      "\n",
      "\n"
     ]
    }
   ],
   "source": [
    "for i in estimativas:\n",
    "    for j in max_depths:\n",
    "        rFReg = RandomForestRegressor(n_estimators=i,max_depth=j)\n",
    "        print(\"n_estimators=\",i, \" - max_depth=\", j)\n",
    "        regressao(rFReg,X_,y)\n",
    "        print(\"\\n\")"
   ]
  },
  {
   "cell_type": "markdown",
   "metadata": {},
   "source": [
    "#### GradientBoostingRegressor"
   ]
  },
  {
   "cell_type": "code",
   "execution_count": 13,
   "metadata": {},
   "outputs": [
    {
     "name": "stdout",
     "output_type": "stream",
     "text": [
      "n_estimators= 50  - max_depth= 3  - learning_rate= 0.1\n",
      "MAE: 3.041211155040151 RMSE: 4.304720208173043\n",
      "\n",
      "\n",
      "n_estimators= 50  - max_depth= 3  - learning_rate= 0.05\n",
      "MAE: 3.2363486839872264 RMSE: 4.587762776213927\n",
      "\n",
      "\n",
      "n_estimators= 50  - max_depth= 3  - learning_rate= 0.01\n",
      "MAE: 5.372069947869653 RMSE: 7.298381426029588\n",
      "\n",
      "\n",
      "n_estimators= 50  - max_depth= 5  - learning_rate= 0.1\n",
      "MAE: 3.327426543001343 RMSE: 5.011316301791821\n",
      "\n",
      "\n",
      "n_estimators= 50  - max_depth= 5  - learning_rate= 0.05\n",
      "MAE: 3.498047306573011 RMSE: 5.236902371926217\n",
      "\n",
      "\n",
      "n_estimators= 50  - max_depth= 5  - learning_rate= 0.01\n",
      "MAE: 5.21027774289311 RMSE: 7.1673722074800805\n",
      "\n",
      "\n",
      "n_estimators= 50  - max_depth= 7  - learning_rate= 0.1\n",
      "MAE: 3.262576222510988 RMSE: 5.192801269870319\n",
      "\n",
      "\n",
      "n_estimators= 50  - max_depth= 7  - learning_rate= 0.05\n",
      "MAE: 3.346824947643583 RMSE: 5.218711463838252\n",
      "\n",
      "\n",
      "n_estimators= 50  - max_depth= 7  - learning_rate= 0.01\n",
      "MAE: 5.164072846377582 RMSE: 7.1190501079495245\n",
      "\n",
      "\n",
      "n_estimators= 100  - max_depth= 3  - learning_rate= 0.1\n",
      "MAE: 3.003476072851263 RMSE: 4.213294569643103\n",
      "\n",
      "\n",
      "n_estimators= 100  - max_depth= 3  - learning_rate= 0.05\n",
      "MAE: 3.036028394146855 RMSE: 4.300511364593298\n",
      "\n",
      "\n",
      "n_estimators= 100  - max_depth= 3  - learning_rate= 0.01\n",
      "MAE: 4.348837748048494 RMSE: 6.033320915943868\n",
      "\n",
      "\n",
      "n_estimators= 100  - max_depth= 5  - learning_rate= 0.1\n",
      "MAE: 3.2455101053572633 RMSE: 4.903894827730516\n",
      "\n",
      "\n",
      "n_estimators= 100  - max_depth= 5  - learning_rate= 0.05\n",
      "MAE: 3.2908335395413175 RMSE: 5.040291530070046\n",
      "\n",
      "\n",
      "n_estimators= 100  - max_depth= 5  - learning_rate= 0.01\n",
      "MAE: 4.238945931644218 RMSE: 6.119111114920968\n",
      "\n",
      "\n",
      "n_estimators= 100  - max_depth= 7  - learning_rate= 0.1\n",
      "MAE: 3.2569128160624627 RMSE: 5.159998267361884\n",
      "\n",
      "\n",
      "n_estimators= 100  - max_depth= 7  - learning_rate= 0.05\n",
      "MAE: 3.2812363201847026 RMSE: 5.177861657537829\n",
      "\n",
      "\n",
      "n_estimators= 100  - max_depth= 7  - learning_rate= 0.01\n",
      "MAE: 4.127585357802025 RMSE: 5.95208924957485\n",
      "\n",
      "\n",
      "n_estimators= 200  - max_depth= 3  - learning_rate= 0.1\n",
      "MAE: 2.982440334357617 RMSE: 4.177117387530667\n",
      "\n",
      "\n",
      "n_estimators= 200  - max_depth= 3  - learning_rate= 0.05\n",
      "MAE: 2.989891219635161 RMSE: 4.168881414100828\n",
      "\n",
      "\n",
      "n_estimators= 200  - max_depth= 3  - learning_rate= 0.01\n",
      "MAE: 3.419284595580661 RMSE: 4.829538693348823\n",
      "\n",
      "\n",
      "n_estimators= 200  - max_depth= 5  - learning_rate= 0.1\n",
      "MAE: 3.272551758393064 RMSE: 4.952719217421469\n",
      "\n",
      "\n",
      "n_estimators= 200  - max_depth= 5  - learning_rate= 0.05\n",
      "MAE: 3.2508698385393573 RMSE: 4.945628064049175\n",
      "\n",
      "\n",
      "n_estimators= 200  - max_depth= 5  - learning_rate= 0.01\n",
      "MAE: 3.5560642435089944 RMSE: 5.288802927720019\n",
      "\n",
      "\n",
      "n_estimators= 200  - max_depth= 7  - learning_rate= 0.1\n",
      "MAE: 3.2508625828351954 RMSE: 5.159420365954966\n",
      "\n",
      "\n",
      "n_estimators= 200  - max_depth= 7  - learning_rate= 0.05\n",
      "MAE: 3.239684022935959 RMSE: 5.147745961866325\n",
      "\n",
      "\n",
      "n_estimators= 200  - max_depth= 7  - learning_rate= 0.01\n",
      "MAE: 3.517359063932729 RMSE: 5.354572759633028\n",
      "\n",
      "\n"
     ]
    }
   ],
   "source": [
    "for i in estimativas:\n",
    "    for j in max_depths:\n",
    "        for k in learning_rates:\n",
    "            gBReg = GradientBoostingRegressor(learning_rate=k,n_estimators=i,max_depth=j)\n",
    "            print(\"n_estimators=\",i, \" - max_depth=\", j, \" - learning_rate=\", k)\n",
    "            regressao(gBReg,X_,y)\n",
    "            print(\"\\n\")"
   ]
  },
  {
   "cell_type": "markdown",
   "metadata": {},
   "source": [
    "#### Modelo Final"
   ]
  },
  {
   "cell_type": "code",
   "execution_count": 14,
   "metadata": {},
   "outputs": [],
   "source": [
    "modelRegression = RandomForestRegressor(n_estimators=100, max_depth=5)\n",
    "modelRegression.fit(X_,y)\n",
    "y_pred = modelRegression.predict(X_)"
   ]
  },
  {
   "cell_type": "code",
   "execution_count": 15,
   "metadata": {},
   "outputs": [
    {
     "name": "stdout",
     "output_type": "stream",
     "text": [
      "MAE: 1.7649966421807077\n",
      "RMSE: 2.305985142016667\n"
     ]
    }
   ],
   "source": [
    "mae = metrics.mean_absolute_error(y,y_pred)\n",
    "rmse = np.sqrt(metrics.mean_squared_error(y,y_pred))\n",
    "print(\"MAE: \"+ str((mae)) + \"\\nRMSE: \"+ str((rmse)))"
   ]
  },
  {
   "cell_type": "code",
   "execution_count": 16,
   "metadata": {},
   "outputs": [
    {
     "name": "stdout",
     "output_type": "stream",
     "text": [
      "[3.48916527e-02 3.22542030e-04 2.53168518e-03 7.55240349e-04\n",
      " 2.23618779e-02 4.70070215e-01 6.48684064e-03 5.75242795e-02\n",
      " 1.93633189e-03 8.99774154e-03 1.37554848e-02 5.76052131e-03\n",
      " 3.74605587e-01]\n"
     ]
    }
   ],
   "source": [
    "print(modelRegression.feature_importances_)"
   ]
  },
  {
   "cell_type": "markdown",
   "metadata": {},
   "source": [
    "# Classificação"
   ]
  },
  {
   "cell_type": "markdown",
   "metadata": {},
   "source": [
    "## Lista 7"
   ]
  },
  {
   "cell_type": "code",
   "execution_count": 17,
   "metadata": {},
   "outputs": [],
   "source": [
    "X_,y = datasets.load_breast_cancer(return_X_y=True)"
   ]
  },
  {
   "cell_type": "code",
   "execution_count": 18,
   "metadata": {},
   "outputs": [],
   "source": [
    "X = preprocessing.MinMaxScaler().fit_transform(X_)"
   ]
  },
  {
   "cell_type": "code",
   "execution_count": 19,
   "metadata": {},
   "outputs": [],
   "source": [
    "def classification(model,X_,y_):\n",
    "    accuracy = 0.0\n",
    "    recall = 0.0\n",
    "    f1 = 0.0\n",
    "    auc = 0.0\n",
    "    precison = 0.0\n",
    "    for train_index, test_index in kfold.split(X):\n",
    "        X_train = X_[train_index]\n",
    "        y_train = y_[train_index]\n",
    "        X_test = X_[test_index]\n",
    "        y_test = y_[test_index]\n",
    "        \n",
    "        #norm = preprocessing.MinMaxScaler().fit(X_train)\n",
    "        #X_train_norm = norm.transform(X_train)\n",
    "        #X_test_norm = norm.transform(X_test)\n",
    "        \n",
    "        model.fit(X_train,y_train)\n",
    "        y_pred = model.predict(X_test)\n",
    "        \n",
    "        conf_matriz = metrics.confusion_matrix(y_test,y_pred)\n",
    "        print(conf_matriz)\n",
    "        \n",
    "        accuracy += metrics.accuracy_score(y_test,y_pred)\n",
    "        recall += metrics.recall_score(y_test,y_pred)\n",
    "        f1 += metrics.f1_score(y_test,y_pred)\n",
    "        auc += metrics.roc_auc_score(y_test,y_pred)\n",
    "        precison += metrics.precision_score(y_test,y_pred)\n",
    "    print(\"accuracy: \" + str((accuracy/5)) + \"\\nprecison: \" + str((precison/5)) +  \"\\nrecall: \"+ str((recall/5)) +\n",
    "          \"\\nf1: \"+ str((f1/5)) + \"\\nauc: \"+ str((auc/5)))"
   ]
  },
  {
   "cell_type": "code",
   "execution_count": 20,
   "metadata": {},
   "outputs": [
    {
     "name": "stdout",
     "output_type": "stream",
     "text": [
      "[[58 10]\n",
      " [ 1 45]]\n",
      "[[41  8]\n",
      " [ 0 65]]\n",
      "[[36  4]\n",
      " [ 0 74]]\n",
      "[[28  1]\n",
      " [ 1 84]]\n",
      "[[26  0]\n",
      " [ 1 86]]\n",
      "accuracy: 0.9543704393727681\n",
      "precison: 0.9291092039843047\n",
      "recall: 0.9910003821618603\n",
      "f1: 0.9578514504482583\n",
      "auc: 0.951019502253675\n"
     ]
    }
   ],
   "source": [
    "modelLoR = linear_model.LogisticRegression()\n",
    "classification(modelLoR,X,y)"
   ]
  },
  {
   "cell_type": "code",
   "execution_count": 21,
   "metadata": {},
   "outputs": [
    {
     "name": "stdout",
     "output_type": "stream",
     "text": [
      "[[61  7]\n",
      " [ 2 44]]\n",
      "[[46  3]\n",
      " [ 0 65]]\n",
      "[[36  4]\n",
      " [ 0 74]]\n",
      "[[27  2]\n",
      " [ 0 85]]\n",
      "[[26  0]\n",
      " [ 3 84]]\n",
      "accuracy: 0.9631113181183046\n",
      "precison: 0.9488713787902429\n",
      "recall: 0.9844077961019491\n",
      "f1: 0.9658345095536731\n",
      "auc: 0.9588907797001859\n"
     ]
    }
   ],
   "source": [
    "modelKNNC = neighbors.KNeighborsClassifier()\n",
    "classification(modelKNNC,X,y)"
   ]
  },
  {
   "cell_type": "code",
   "execution_count": 22,
   "metadata": {},
   "outputs": [
    {
     "name": "stdout",
     "output_type": "stream",
     "text": [
      "[[58 10]\n",
      " [ 4 42]]\n",
      "[[43  6]\n",
      " [ 2 63]]\n",
      "[[37  3]\n",
      " [ 3 71]]\n",
      "[[27  2]\n",
      " [ 1 84]]\n",
      "[[24  2]\n",
      " [ 7 80]]\n",
      "accuracy: 0.9296848315478963\n",
      "precison: 0.9265098375113417\n",
      "recall: 0.9499018461907605\n",
      "f1: 0.9372205053092115\n",
      "auc: 0.9259112833668098\n"
     ]
    }
   ],
   "source": [
    "modelNB = naive_bayes.GaussianNB()\n",
    "classification(modelNB,X,y)"
   ]
  },
  {
   "cell_type": "code",
   "execution_count": 23,
   "metadata": {},
   "outputs": [
    {
     "name": "stdout",
     "output_type": "stream",
     "text": [
      "[[52 16]\n",
      " [ 0 46]]\n",
      "[[40  9]\n",
      " [ 0 65]]\n",
      "[[36  4]\n",
      " [ 0 74]]\n",
      "[[27  2]\n",
      " [ 0 85]]\n",
      "[[24  2]\n",
      " [ 1 86]]\n",
      "accuracy: 0.9403043005744449\n",
      "precison: 0.9046632064985791\n",
      "recall: 0.9977011494252874\n",
      "f1: 0.9464034193639435\n",
      "auc: 0.9323649565927168\n"
     ]
    }
   ],
   "source": [
    "modelSVMC = svm.SVC()\n",
    "classification(modelSVMC,X,y)"
   ]
  },
  {
   "cell_type": "markdown",
   "metadata": {},
   "source": [
    "## Lista 11"
   ]
  },
  {
   "cell_type": "markdown",
   "metadata": {},
   "source": [
    "#### DecisionTreeClassifier"
   ]
  },
  {
   "cell_type": "code",
   "execution_count": 24,
   "metadata": {},
   "outputs": [
    {
     "name": "stdout",
     "output_type": "stream",
     "text": [
      "[[58 10]\n",
      " [ 4 42]]\n",
      "[[44  5]\n",
      " [ 5 60]]\n",
      "[[37  3]\n",
      " [ 3 71]]\n",
      "[[28  1]\n",
      " [ 6 79]]\n",
      "[[23  3]\n",
      " [15 72]]\n",
      "accuracy: 0.9032293122185996\n",
      "precison: 0.927545738045738\n",
      "recall: 0.9105155664799373\n",
      "f1: 0.9172287772287773\n",
      "auc: 0.9078610818538438\n"
     ]
    }
   ],
   "source": [
    "modelDTC = DecisionTreeClassifier(random_state=0)\n",
    "classification(modelDTC,X_,y)"
   ]
  },
  {
   "cell_type": "markdown",
   "metadata": {},
   "source": [
    "#### RandomForestClassifier"
   ]
  },
  {
   "cell_type": "code",
   "execution_count": 25,
   "metadata": {},
   "outputs": [
    {
     "name": "stdout",
     "output_type": "stream",
     "text": [
      "n_estimators= 50  - max_depth= 3\n",
      "[[58 10]\n",
      " [ 1 45]]\n",
      "[[44  5]\n",
      " [ 3 62]]\n",
      "[[37  3]\n",
      " [ 0 74]]\n",
      "[[27  2]\n",
      " [ 3 82]]\n",
      "[[26  0]\n",
      " [ 2 85]]\n",
      "accuracy: 0.9490917559385188\n",
      "precison: 0.9361568779479228\n",
      "recall: 0.9747648800034373\n",
      "f1: 0.9538803585685287\n",
      "auc: 0.9480759242919865\n",
      "\n",
      "\n",
      "n_estimators= 50  - max_depth= 5\n",
      "[[58 10]\n",
      " [ 2 44]]\n",
      "[[45  4]\n",
      " [ 2 63]]\n",
      "[[37  3]\n",
      " [ 0 74]]\n",
      "[[28  1]\n",
      " [ 2 83]]\n",
      "[[26  0]\n",
      " [ 3 84]]\n",
      "accuracy: 0.952585002328831\n",
      "precison: 0.94084950428234\n",
      "recall: 0.9735480675951618\n",
      "f1: 0.9558765131875034\n",
      "auc: 0.9529566102764484\n",
      "\n",
      "\n",
      "n_estimators= 50  - max_depth= 7\n",
      "[[59  9]\n",
      " [ 2 44]]\n",
      "[[46  3]\n",
      " [ 3 62]]\n",
      "[[37  3]\n",
      " [ 0 74]]\n",
      "[[27  2]\n",
      " [ 2 83]]\n",
      "[[26  0]\n",
      " [ 2 85]]\n",
      "accuracy: 0.9543549138332557\n",
      "precison: 0.9443088764731385\n",
      "recall: 0.9727699950929513\n",
      "f1: 0.9575420348649437\n",
      "auc: 0.9526307027250989\n",
      "\n",
      "\n",
      "n_estimators= 100  - max_depth= 3\n",
      "[[57 11]\n",
      " [ 1 45]]\n",
      "[[45  4]\n",
      " [ 4 61]]\n",
      "[[37  3]\n",
      " [ 0 74]]\n",
      "[[27  2]\n",
      " [ 3 82]]\n",
      "[[26  0]\n",
      " [ 2 85]]\n",
      "accuracy: 0.9473373699736065\n",
      "precison: 0.9358524808524809\n",
      "recall: 0.9716879569265142\n",
      "f1: 0.9519466448351646\n",
      "auc: 0.9471076908447614\n",
      "\n",
      "\n",
      "n_estimators= 100  - max_depth= 5\n",
      "[[58 10]\n",
      " [ 1 45]]\n",
      "[[45  4]\n",
      " [ 4 61]]\n",
      "[[38  2]\n",
      " [ 0 74]]\n",
      "[[27  2]\n",
      " [ 2 83]]\n",
      "[[26  0]\n",
      " [ 2 85]]\n",
      "accuracy: 0.9526005278683435\n",
      "precison: 0.9413596310809933\n",
      "recall: 0.9740408981029848\n",
      "f1: 0.9562119990595292\n",
      "auc: 0.9522547496682909\n",
      "\n",
      "\n",
      "n_estimators= 100  - max_depth= 7\n",
      "[[60  8]\n",
      " [ 2 44]]\n",
      "[[45  4]\n",
      " [ 2 63]]\n",
      "[[37  3]\n",
      " [ 0 74]]\n",
      "[[27  2]\n",
      " [ 3 82]]\n",
      "[[26  0]\n",
      " [ 3 84]]\n",
      "accuracy: 0.952585002328831\n",
      "precison: 0.944736358169194\n",
      "recall: 0.9711951264186911\n",
      "f1: 0.9571014860168718\n",
      "auc: 0.9512730402967323\n",
      "\n",
      "\n",
      "n_estimators= 200  - max_depth= 3\n",
      "[[56 12]\n",
      " [ 1 45]]\n",
      "[[46  3]\n",
      " [ 2 63]]\n",
      "[[37  3]\n",
      " [ 0 74]]\n",
      "[[28  1]\n",
      " [ 2 83]]\n",
      "[[25  1]\n",
      " [ 2 85]]\n",
      "accuracy: 0.952585002328831\n",
      "precison: 0.936305086182687\n",
      "recall: 0.980194744256831\n",
      "f1: 0.9561316798828898\n",
      "auc: 0.9515334346170714\n",
      "\n",
      "\n",
      "n_estimators= 200  - max_depth= 5\n",
      "[[57 11]\n",
      " [ 1 45]]\n",
      "[[45  4]\n",
      " [ 3 62]]\n",
      "[[37  3]\n",
      " [ 0 74]]\n",
      "[[27  2]\n",
      " [ 2 83]]\n",
      "[[26  0]\n",
      " [ 3 84]]\n",
      "accuracy: 0.9490762303990063\n",
      "precison: 0.9360949834479246\n",
      "recall: 0.9748189706051951\n",
      "f1: 0.95359540111799\n",
      "auc: 0.948673197684102\n",
      "\n",
      "\n",
      "n_estimators= 200  - max_depth= 7\n",
      "[[58 10]\n",
      " [ 1 45]]\n",
      "[[46  3]\n",
      " [ 2 63]]\n",
      "[[37  3]\n",
      " [ 0 74]]\n",
      "[[27  2]\n",
      " [ 2 83]]\n",
      "[[26  0]\n",
      " [ 2 85]]\n",
      "accuracy: 0.9561092997981679\n",
      "precison: 0.9420473644003057\n",
      "recall: 0.980194744256831\n",
      "f1: 0.9595792603138538\n",
      "auc: 0.9548724890717446\n",
      "\n",
      "\n"
     ]
    }
   ],
   "source": [
    "for i in estimativas:\n",
    "    for j in max_depths:\n",
    "        rFClass = RandomForestClassifier(n_estimators=i, max_depth=j)\n",
    "        print(\"n_estimators=\",i, \" - max_depth=\", j)\n",
    "        classification(rFClass,X_,y)\n",
    "        print(\"\\n\")"
   ]
  },
  {
   "cell_type": "markdown",
   "metadata": {},
   "source": [
    "#### GradientBoostingClassifier"
   ]
  },
  {
   "cell_type": "code",
   "execution_count": 26,
   "metadata": {},
   "outputs": [
    {
     "name": "stdout",
     "output_type": "stream",
     "text": [
      "n_estimators= 50  - max_depth= 3  - learning_rate= 0.1\n",
      "[[60  8]\n",
      " [ 2 44]]\n",
      "[[45  4]\n",
      " [ 4 61]]\n",
      "[[39  1]\n",
      " [ 1 73]]\n",
      "[[28  1]\n",
      " [ 4 81]]\n",
      "[[26  0]\n",
      " [ 2 85]]\n",
      "accuracy: 0.9526005278683435\n",
      "precison: 0.9517813498301303\n",
      "recall: 0.9622844869603842\n",
      "f1: 0.9562678363768542\n",
      "auc: 0.9552659964296479\n",
      "\n",
      "\n",
      "n_estimators= 50  - max_depth= 3  - learning_rate= 0.05\n",
      "[[56 12]\n",
      " [ 2 44]]\n",
      "[[43  6]\n",
      " [ 4 61]]\n",
      "[[38  2]\n",
      " [ 1 73]]\n",
      "[[27  2]\n",
      " [ 4 81]]\n",
      "[[26  0]\n",
      " [ 3 84]]\n",
      "accuracy: 0.9367955286446203\n",
      "precison: 0.929079798939896\n",
      "recall: 0.9599856363856716\n",
      "f1: 0.9427190297460625\n",
      "auc: 0.9382043096859849\n",
      "\n",
      "\n",
      "n_estimators= 50  - max_depth= 3  - learning_rate= 0.01\n",
      "[[54 14]\n",
      " [ 2 44]]\n",
      "[[43  6]\n",
      " [ 2 63]]\n",
      "[[37  3]\n",
      " [ 2 72]]\n",
      "[[27  2]\n",
      " [ 4 81]]\n",
      "[[23  3]\n",
      " [ 6 81]]\n",
      "accuracy: 0.9226672876882471\n",
      "precison: 0.9143706993319174\n",
      "recall: 0.9565402281126772\n",
      "f1: 0.9329098883950027\n",
      "auc: 0.9195019675404378\n",
      "\n",
      "\n",
      "n_estimators= 50  - max_depth= 5  - learning_rate= 0.1\n",
      "[[57 11]\n",
      " [ 0 46]]\n",
      "[[42  7]\n",
      " [ 3 62]]\n",
      "[[38  2]\n",
      " [ 1 73]]\n",
      "[[29  0]\n",
      " [ 5 80]]\n",
      "[[25  1]\n",
      " [ 6 81]]\n",
      "accuracy: 0.9367334264865704\n",
      "precison: 0.9333412959758889\n",
      "recall: 0.9625087187358993\n",
      "f1: 0.9453439281978717\n",
      "auc: 0.9419460206478462\n",
      "\n",
      "\n",
      "n_estimators= 50  - max_depth= 5  - learning_rate= 0.05\n",
      "[[56 12]\n",
      " [ 2 44]]\n",
      "[[44  5]\n",
      " [ 2 63]]\n",
      "[[38  2]\n",
      " [ 1 73]]\n",
      "[[29  0]\n",
      " [ 5 80]]\n",
      "[[24  2]\n",
      " [ 9 78]]\n",
      "accuracy: 0.9296537804688713\n",
      "precison: 0.9321036414565826\n",
      "recall: 0.9499934379147714\n",
      "f1: 0.9387615994255688\n",
      "auc: 0.9344532708088955\n",
      "\n",
      "\n",
      "n_estimators= 50  - max_depth= 5  - learning_rate= 0.01\n",
      "[[55 13]\n",
      " [ 2 44]]\n",
      "[[41  8]\n",
      " [ 3 62]]\n",
      "[[36  4]\n",
      " [ 2 72]]\n",
      "[[28  1]\n",
      " [ 4 81]]\n",
      "[[23  3]\n",
      " [ 9 78]]\n",
      "accuracy: 0.9138487812451483\n",
      "precison: 0.9111560744680128\n",
      "recall: 0.9465667533116161\n",
      "f1: 0.9263037518736607\n",
      "auc: 0.9128524615842093\n",
      "\n",
      "\n",
      "n_estimators= 50  - max_depth= 7  - learning_rate= 0.1\n",
      "[[57 11]\n",
      " [ 3 43]]\n",
      "[[44  5]\n",
      " [ 3 62]]\n",
      "[[37  3]\n",
      " [ 4 70]]\n",
      "[[28  1]\n",
      " [ 7 78]]\n",
      "[[23  3]\n",
      " [ 9 78]]\n",
      "accuracy: 0.9138487812451481\n",
      "precison: 0.9261756550657114\n",
      "recall: 0.9297546982898425\n",
      "f1: 0.9263131665082884\n",
      "auc: 0.9160100595235023\n",
      "\n",
      "\n",
      "n_estimators= 50  - max_depth= 7  - learning_rate= 0.05\n",
      "[[57 11]\n",
      " [ 3 43]]\n",
      "[[44  5]\n",
      " [ 3 62]]\n",
      "[[37  3]\n",
      " [ 3 71]]\n",
      "[[28  1]\n",
      " [ 7 78]]\n",
      "[[24  2]\n",
      " [10 77]]\n",
      "accuracy: 0.9156031672100605\n",
      "precison: 0.928630841307962\n",
      "recall: 0.9301585504178325\n",
      "f1: 0.9275567508844029\n",
      "auc: 0.9200581394336513\n",
      "\n",
      "\n",
      "n_estimators= 50  - max_depth= 7  - learning_rate= 0.01\n",
      "[[56 12]\n",
      " [ 2 44]]\n",
      "[[41  8]\n",
      " [ 3 62]]\n",
      "[[36  4]\n",
      " [ 2 72]]\n",
      "[[28  1]\n",
      " [ 4 81]]\n",
      "[[23  3]\n",
      " [ 9 78]]\n",
      "accuracy: 0.9156031672100605\n",
      "precison: 0.9139129666985892\n",
      "recall: 0.9465667533116161\n",
      "f1: 0.9279789850737368\n",
      "auc: 0.9143230498195034\n",
      "\n",
      "\n",
      "n_estimators= 100  - max_depth= 3  - learning_rate= 0.1\n",
      "[[59  9]\n",
      " [ 2 44]]\n",
      "[[44  5]\n",
      " [ 6 59]]\n",
      "[[39  1]\n",
      " [ 0 74]]\n",
      "[[27  2]\n",
      " [ 3 82]]\n",
      "[[26  0]\n",
      " [ 1 86]]\n",
      "accuracy: 0.9491072814780314\n",
      "precison: 0.9429841644204853\n",
      "recall: 0.9634851352604242\n",
      "f1: 0.9523080032052162\n",
      "auc: 0.948906640155774\n",
      "\n",
      "\n",
      "n_estimators= 100  - max_depth= 3  - learning_rate= 0.05\n",
      "[[61  7]\n",
      " [ 2 44]]\n",
      "[[44  5]\n",
      " [ 4 61]]\n",
      "[[39  1]\n",
      " [ 1 73]]\n",
      "[[27  2]\n",
      " [ 4 81]]\n",
      "[[26  0]\n",
      " [ 2 85]]\n",
      "accuracy: 0.9508461419034312\n",
      "precison: 0.9498755246451915\n",
      "recall: 0.9622844869603842\n",
      "f1: 0.9555316997128962\n",
      "auc: 0.9512474924763424\n",
      "\n",
      "\n",
      "n_estimators= 100  - max_depth= 3  - learning_rate= 0.01\n",
      "[[54 14]\n",
      " [ 2 44]]\n",
      "[[43  6]\n",
      " [ 3 62]]\n",
      "[[38  2]\n",
      " [ 1 73]]\n",
      "[[28  1]\n",
      " [ 5 80]]\n",
      "[[24  2]\n",
      " [ 2 85]]\n",
      "accuracy: 0.9332712311752832\n",
      "precison: 0.9216769088222773\n",
      "recall: 0.9630084688608367\n",
      "f1: 0.9398434721946434\n",
      "auc: 0.9325305176227404\n",
      "\n",
      "\n",
      "n_estimators= 100  - max_depth= 5  - learning_rate= 0.1\n",
      "[[58 10]\n",
      " [ 0 46]]\n",
      "[[44  5]\n",
      " [ 3 62]]\n",
      "[[38  2]\n",
      " [ 1 73]]\n",
      "[[29  0]\n",
      " [ 6 79]]\n",
      "[[25  1]\n",
      " [ 3 84]]\n",
      "accuracy: 0.9455519329296692\n",
      "precison: 0.9416740666415819\n",
      "recall: 0.9670523292835667\n",
      "f1: 0.9522758631425198\n",
      "auc: 0.9497700468100352\n",
      "\n",
      "\n",
      "n_estimators= 100  - max_depth= 5  - learning_rate= 0.05\n",
      "[[57 11]\n",
      " [ 0 46]]\n",
      "[[42  7]\n",
      " [ 3 62]]\n",
      "[[38  2]\n",
      " [ 1 73]]\n",
      "[[29  0]\n",
      " [ 5 80]]\n",
      "[[25  1]\n",
      " [ 6 81]]\n",
      "accuracy: 0.9367334264865704\n",
      "precison: 0.9333412959758889\n",
      "recall: 0.9625087187358993\n",
      "f1: 0.9453439281978717\n",
      "auc: 0.9419460206478462\n",
      "\n",
      "\n",
      "n_estimators= 100  - max_depth= 5  - learning_rate= 0.01\n",
      "[[57 11]\n",
      " [ 2 44]]\n",
      "[[42  7]\n",
      " [ 3 62]]\n",
      "[[37  3]\n",
      " [ 1 73]]\n",
      "[[29  0]\n",
      " [ 4 81]]\n",
      "[[23  3]\n",
      " [ 9 78]]\n",
      "accuracy: 0.924375097034622\n",
      "precison: 0.9244080006780235\n",
      "recall: 0.9492694560143189\n",
      "f1: 0.9348937278807645\n",
      "auc: 0.9251340815947483\n",
      "\n",
      "\n",
      "n_estimators= 100  - max_depth= 7  - learning_rate= 0.1\n",
      "[[57 11]\n",
      " [ 3 43]]\n",
      "[[44  5]\n",
      " [ 4 61]]\n",
      "[[37  3]\n",
      " [ 4 70]]\n",
      "[[28  1]\n",
      " [ 5 80]]\n",
      "[[24  2]\n",
      " [ 9 78]]\n",
      "accuracy: 0.9173730787144854\n",
      "precison: 0.9284194302230832\n",
      "recall: 0.9313836575658605\n",
      "f1: 0.928333164103662\n",
      "auc: 0.9206706930076655\n",
      "\n",
      "\n",
      "n_estimators= 100  - max_depth= 7  - learning_rate= 0.05\n",
      "[[57 11]\n",
      " [ 3 43]]\n",
      "[[43  6]\n",
      " [ 3 62]]\n",
      "[[37  3]\n",
      " [ 3 71]]\n",
      "[[28  1]\n",
      " [ 7 78]]\n",
      "[[23  3]\n",
      " [ 9 78]]\n",
      "accuracy: 0.9138487812451481\n",
      "precison: 0.9235650393505941\n",
      "recall: 0.9324574009925453\n",
      "f1: 0.9263162454587357\n",
      "auc: 0.9153205945483232\n",
      "\n",
      "\n",
      "n_estimators= 100  - max_depth= 7  - learning_rate= 0.01\n",
      "[[56 12]\n",
      " [ 3 43]]\n",
      "[[43  6]\n",
      " [ 3 62]]\n",
      "[[37  3]\n",
      " [ 3 71]]\n",
      "[[28  1]\n",
      " [ 4 81]]\n",
      "[[23  3]\n",
      " [ 9 78]]\n",
      "accuracy: 0.9173575531749728\n",
      "precison: 0.9207620376343476\n",
      "recall: 0.939516224521957\n",
      "f1: 0.9283813487705859\n",
      "auc: 0.9173794180777349\n",
      "\n",
      "\n",
      "n_estimators= 200  - max_depth= 3  - learning_rate= 0.1\n",
      "[[60  8]\n",
      " [ 2 44]]\n",
      "[[45  4]\n",
      " [ 4 61]]\n",
      "[[38  2]\n",
      " [ 0 74]]\n",
      "[[27  2]\n",
      " [ 3 82]]\n",
      "[[26  0]\n",
      " [ 1 86]]\n",
      "accuracy: 0.9543704393727681\n",
      "precison: 0.9468980142664354\n",
      "recall: 0.9696389814142703\n",
      "f1: 0.9575442486328594\n",
      "auc: 0.9529949677945219\n",
      "\n",
      "\n",
      "n_estimators= 200  - max_depth= 3  - learning_rate= 0.05\n",
      "[[60  8]\n",
      " [ 2 44]]\n",
      "[[45  4]\n",
      " [ 4 61]]\n",
      "[[39  1]\n",
      " [ 0 74]]\n",
      "[[27  2]\n",
      " [ 3 82]]\n",
      "[[26  0]\n",
      " [ 1 86]]\n",
      "accuracy: 0.9561248253376805\n",
      "precison: 0.9494945054945056\n",
      "recall: 0.9696389814142703\n",
      "f1: 0.9588686334203315\n",
      "auc: 0.9554949677945219\n",
      "\n",
      "\n",
      "n_estimators= 200  - max_depth= 3  - learning_rate= 0.01\n",
      "[[55 13]\n",
      " [ 2 44]]\n",
      "[[43  6]\n",
      " [ 5 60]]\n",
      "[[38  2]\n",
      " [ 1 73]]\n",
      "[[28  1]\n",
      " [ 4 81]]\n",
      "[[26  0]\n",
      " [ 4 83]]\n",
      "accuracy: 0.9332712311752834\n",
      "precison: 0.9284317890068852\n",
      "recall: 0.9546098627340358\n",
      "f1: 0.939359141335375\n",
      "auc: 0.9374941104869418\n",
      "\n",
      "\n",
      "n_estimators= 200  - max_depth= 5  - learning_rate= 0.1\n",
      "[[59  9]\n",
      " [ 0 46]]\n",
      "[[44  5]\n",
      " [ 3 62]]\n",
      "[[38  2]\n",
      " [ 2 72]]\n",
      "[[29  0]\n",
      " [ 6 79]]\n",
      "[[25  1]\n",
      " [ 3 84]]\n",
      "accuracy: 0.9455519329296692\n",
      "precison: 0.9445890075565229\n",
      "recall: 0.964349626580864\n",
      "f1: 0.9526833643337351\n",
      "auc: 0.9498892836939781\n",
      "\n",
      "\n",
      "n_estimators= 200  - max_depth= 5  - learning_rate= 0.05\n",
      "[[58 10]\n",
      " [ 0 46]]\n",
      "[[43  6]\n",
      " [ 3 62]]\n",
      "[[38  2]\n",
      " [ 2 72]]\n",
      "[[28  1]\n",
      " [ 5 80]]\n",
      "[[25  1]\n",
      " [ 6 81]]\n",
      "accuracy: 0.9367334264865704\n",
      "precison: 0.9363250898640665\n",
      "recall: 0.9598060160331967\n",
      "f1: 0.9459399775395838\n",
      "auc: 0.9406577979962506\n",
      "\n",
      "\n",
      "n_estimators= 200  - max_depth= 5  - learning_rate= 0.01\n",
      "[[56 12]\n",
      " [ 2 44]]\n",
      "[[44  5]\n",
      " [ 3 62]]\n",
      "[[37  3]\n",
      " [ 1 73]]\n",
      "[[29  0]\n",
      " [ 4 81]]\n",
      "[[24  2]\n",
      " [ 9 78]]\n",
      "accuracy: 0.927899394503959\n",
      "precison: 0.9293227471664235\n",
      "recall: 0.9492694560143189\n",
      "f1: 0.9371015443502531\n",
      "auc: 0.9315912798586693\n",
      "\n",
      "\n",
      "n_estimators= 200  - max_depth= 7  - learning_rate= 0.1\n",
      "[[56 12]\n",
      " [ 3 43]]\n",
      "[[44  5]\n",
      " [ 4 61]]\n",
      "[[37  3]\n",
      " [ 4 70]]\n",
      "[[28  1]\n",
      " [ 5 80]]\n",
      "[[24  2]\n",
      " [ 9 78]]\n",
      "accuracy: 0.915618692749573\n",
      "precison: 0.9255238073274603\n",
      "recall: 0.9313836575658605\n",
      "f1: 0.9266301938066321\n",
      "auc: 0.9192001047723712\n",
      "\n",
      "\n",
      "n_estimators= 200  - max_depth= 7  - learning_rate= 0.05\n",
      "[[57 11]\n",
      " [ 3 43]]\n",
      "[[44  5]\n",
      " [ 4 61]]\n",
      "[[37  3]\n",
      " [ 3 71]]\n",
      "[[28  1]\n",
      " [ 5 80]]\n",
      "[[24  2]\n",
      " [ 9 78]]\n",
      "accuracy: 0.9191274646793974\n",
      "precison: 0.9285305001971669\n",
      "recall: 0.9340863602685634\n",
      "f1: 0.9297488655193634\n",
      "auc: 0.9220220443590167\n",
      "\n",
      "\n",
      "n_estimators= 200  - max_depth= 7  - learning_rate= 0.01\n",
      "[[56 12]\n",
      " [ 3 43]]\n",
      "[[43  6]\n",
      " [ 3 62]]\n",
      "[[37  3]\n",
      " [ 3 71]]\n",
      "[[28  1]\n",
      " [ 6 79]]\n",
      "[[23  3]\n",
      " [ 9 78]]\n",
      "accuracy: 0.9138487812451483\n",
      "precison: 0.9207010620245913\n",
      "recall: 0.9348103421690158\n",
      "f1: 0.9258845242378332\n",
      "auc: 0.9150264769012644\n",
      "\n",
      "\n"
     ]
    }
   ],
   "source": [
    "for i in estimativas:\n",
    "    for j in max_depths:\n",
    "        for k in learning_rates:\n",
    "            gBClass = GradientBoostingClassifier(learning_rate=k,n_estimators=i,max_depth=j)\n",
    "            print(\"n_estimators=\",i, \" - max_depth=\", j, \" - learning_rate=\", k)\n",
    "            classification(gBClass,X_,y)\n",
    "            print(\"\\n\")"
   ]
  },
  {
   "cell_type": "markdown",
   "metadata": {},
   "source": [
    "## modelo Final"
   ]
  },
  {
   "cell_type": "code",
   "execution_count": 27,
   "metadata": {},
   "outputs": [],
   "source": [
    "modelClassification = RandomForestClassifier()\n",
    "modelClassification.fit(X_,y)\n",
    "y_pred = modelClassification.predict(X_)"
   ]
  },
  {
   "cell_type": "code",
   "execution_count": 28,
   "metadata": {},
   "outputs": [
    {
     "name": "stdout",
     "output_type": "stream",
     "text": [
      "0.9971988795518207\n"
     ]
    }
   ],
   "source": [
    "print(metrics.recall_score(y,y_pred))"
   ]
  },
  {
   "cell_type": "code",
   "execution_count": 29,
   "metadata": {},
   "outputs": [
    {
     "name": "stdout",
     "output_type": "stream",
     "text": [
      "[0.18558583 0.0125771  0.06714698 0.06081528 0.00465182 0.01463002\n",
      " 0.0331365  0.02726932 0.00466899 0.00430291 0.0058497  0.00516288\n",
      " 0.00476053 0.01269838 0.00092948 0.00252552 0.00243462 0.00166766\n",
      " 0.00073088 0.00846587 0.02137114 0.01113706 0.29234544 0.10195131\n",
      " 0.01809423 0.0220042  0.0171766  0.0452203  0.00547804 0.00521142]\n"
     ]
    }
   ],
   "source": [
    "print(modelClassification.feature_importances_)"
   ]
  },
  {
   "cell_type": "markdown",
   "metadata": {},
   "source": [
    "# Lista 13"
   ]
  },
  {
   "cell_type": "code",
   "execution_count": 52,
   "metadata": {},
   "outputs": [],
   "source": [
    "data = pd.read_csv(\"csvs/data_1024.csv\", sep=\"\\t\")\n",
    "#data = np.genfromtxt(\"csvs/data_1024.csv\", skip_header=1, delimiter=\"\\t\")\n",
    "X = data.drop(labels=['Driver_ID'],axis=1)"
   ]
  },
  {
   "cell_type": "markdown",
   "metadata": {},
   "source": [
    "### single"
   ]
  },
  {
   "cell_type": "code",
   "execution_count": 31,
   "metadata": {},
   "outputs": [],
   "source": [
    "hc_single = linkage(X,method=\"single\", metric=\"euclidean\")"
   ]
  },
  {
   "cell_type": "code",
   "execution_count": 32,
   "metadata": {},
   "outputs": [
    {
     "data": {
      "image/png": "[encoded data removed]",
      "text/plain": [
       "<Figure size 432x288 with 1 Axes>"
      ]
     },
     "metadata": {},
     "output_type": "display_data"
    }
   ],
   "source": [
    "dendrogram_single = dendrogram(hc_single,truncate_mode=\"lastp\",p=15)"
   ]
  },
  {
   "cell_type": "markdown",
   "metadata": {},
   "source": [
    "### Complete"
   ]
  },
  {
   "cell_type": "code",
   "execution_count": 33,
   "metadata": {},
   "outputs": [],
   "source": [
    "hc_complete = linkage(X,method=\"complete\", metric=\"euclidean\")"
   ]
  },
  {
   "cell_type": "code",
   "execution_count": 34,
   "metadata": {},
   "outputs": [
    {
     "data": {
      "image/png": "[encoded data removed]",
      "text/plain": [
       "<Figure size 432x288 with 1 Axes>"
      ]
     },
     "metadata": {},
     "output_type": "display_data"
    }
   ],
   "source": [
    "dendrogram_complete = dendrogram(hc_complete,truncate_mode=\"lastp\", p=10)"
   ]
  },
  {
   "cell_type": "markdown",
   "metadata": {},
   "source": [
    "### Average"
   ]
  },
  {
   "cell_type": "code",
   "execution_count": 35,
   "metadata": {},
   "outputs": [],
   "source": [
    "hc_average = linkage(X, method=\"average\", metric=\"euclidean\")"
   ]
  },
  {
   "cell_type": "code",
   "execution_count": 36,
   "metadata": {
    "scrolled": true
   },
   "outputs": [
    {
     "data": {
      "image/png": "[encoded data removed]",
      "text/plain": [
       "<Figure size 432x288 with 1 Axes>"
      ]
     },
     "metadata": {},
     "output_type": "display_data"
    }
   ],
   "source": [
    "dendrogram_average = dendrogram(hc_average,truncate_mode=\"lastp\", p=10)"
   ]
  },
  {
   "cell_type": "code",
   "execution_count": 53,
   "metadata": {},
   "outputs": [
    {
     "data": {
      "text/plain": [
       "(4000, 1)"
      ]
     },
     "execution_count": 53,
     "metadata": {},
     "output_type": "execute_result"
    }
   ],
   "source": [
    "y_ = cut_tree(hc_complete, n_clusters=3)\n",
    "y_.shape"
   ]
  },
  {
   "cell_type": "code",
   "execution_count": 55,
   "metadata": {},
   "outputs": [
    {
     "data": {
      "text/plain": [
       "<matplotlib.collections.PathCollection at 0x7f77ec713400>"
      ]
     },
     "execution_count": 55,
     "metadata": {},
     "output_type": "execute_result"
    },
    {
     "data": {
      "image/png": "[encoded data removed]",
      "text/plain": [
       "<Figure size 432x288 with 1 Axes>"
      ]
     },
     "metadata": {},
     "output_type": "display_data"
    }
   ],
   "source": [
    "plt.scatter(X.iloc[:,0],X.iloc[:,1],c=y_.reshape(4000,))"
   ]
  },
  {
   "cell_type": "markdown",
   "metadata": {},
   "source": [
    "## DBSCAN"
   ]
  },
  {
   "cell_type": "code",
   "execution_count": 39,
   "metadata": {},
   "outputs": [
    {
     "data": {
      "image/png": "[encoded data removed]",
      "text/plain": [
       "<Figure size 432x288 with 1 Axes>"
      ]
     },
     "metadata": {},
     "output_type": "display_data"
    }
   ],
   "source": [
    "dbscan = DBSCAN(eps=0.5, min_samples=5)\n",
    "y_dbscan = dbscan.fit_predict(X)\n",
    "\n",
    "plt.scatter(X.iloc[:,0],X.iloc[:,1],c = y_dbscan)\n",
    "plt.show();"
   ]
  },
  {
   "cell_type": "code",
   "execution_count": 40,
   "metadata": {},
   "outputs": [
    {
     "data": {
      "image/png": "[encoded data removed]",
      "text/plain": [
       "<Figure size 432x288 with 1 Axes>"
      ]
     },
     "metadata": {},
     "output_type": "display_data"
    }
   ],
   "source": [
    "dbscan = DBSCAN(eps=5, min_samples=10, metric=\"euclidean\")\n",
    "y_dbscan = dbscan.fit_predict(X)\n",
    "\n",
    "plt.scatter(X.iloc[:,0],X.iloc[:,1],c = y_dbscan)\n",
    "plt.show();"
   ]
  },
  {
   "cell_type": "code",
   "execution_count": 41,
   "metadata": {},
   "outputs": [
    {
     "data": {
      "image/png": "[encoded data removed]",
      "text/plain": [
       "<Figure size 432x288 with 1 Axes>"
      ]
     },
     "metadata": {},
     "output_type": "display_data"
    }
   ],
   "source": [
    "dbscan = DBSCAN(eps=5, min_samples=20, metric=\"euclidean\")\n",
    "y_dbscan = dbscan.fit_predict(X)\n",
    "\n",
    "plt.scatter(X.iloc[:,0],X.iloc[:,1],c = y_dbscan)\n",
    "plt.show();"
   ]
  },
  {
   "cell_type": "markdown",
   "metadata": {},
   "source": [
    "### 1  Quais as diferenças entre feature selection e feature extraction? \n",
    "\n",
    "* Feature extraction tranforma as features existentes em um espaço dimensional menor, enquanto a Feature selection seleciona um subconjunto das features existentes sem haver tranformação.\n",
    "\n",
    "### 2 Dê exemplos de técnicas usadas para feature selection.\n",
    "\n",
    "* l1, l2 e ElasticNet.\n",
    "\n",
    " \n",
    "### 4 Dê exemplos de técnicas usadas para feature extraction. \n",
    "\n",
    "*  PCA e LDA."
   ]
  },
  {
   "cell_type": "code",
   "execution_count": 42,
   "metadata": {},
   "outputs": [],
   "source": [
    "X,y = datasets.load_iris(return_X_y=True)"
   ]
  },
  {
   "cell_type": "markdown",
   "metadata": {},
   "source": [
    "### PCA"
   ]
  },
  {
   "cell_type": "code",
   "execution_count": 43,
   "metadata": {},
   "outputs": [],
   "source": [
    "pca = PCA(n_components=2)\n",
    "X_ = pca.fit_transform(X,y)"
   ]
  },
  {
   "cell_type": "code",
   "execution_count": 44,
   "metadata": {},
   "outputs": [
    {
     "data": {
      "image/png": "[encoded data removed]",
      "text/plain": [
       "<Figure size 432x288 with 1 Axes>"
      ]
     },
     "metadata": {},
     "output_type": "display_data"
    }
   ],
   "source": [
    "plt.scatter(X_[:,0],X_[:,1],c=y);"
   ]
  },
  {
   "cell_type": "markdown",
   "metadata": {},
   "source": [
    "### LDA"
   ]
  },
  {
   "cell_type": "code",
   "execution_count": 45,
   "metadata": {},
   "outputs": [],
   "source": [
    "lda = LDA(n_components=2)\n",
    "X_ = lda.fit_transform(X,y)"
   ]
  },
  {
   "cell_type": "code",
   "execution_count": 46,
   "metadata": {},
   "outputs": [
    {
     "data": {
      "image/png": "[encoded data removed]",
      "text/plain": [
       "<Figure size 432x288 with 1 Axes>"
      ]
     },
     "metadata": {},
     "output_type": "display_data"
    }
   ],
   "source": [
    "plt.scatter(X_[:,0],X_[:,1],c=y);"
   ]
  },
  {
   "cell_type": "markdown",
   "metadata": {},
   "source": [
    "# LISTA 12"
   ]
  },
  {
   "cell_type": "code",
   "execution_count": 47,
   "metadata": {},
   "outputs": [],
   "source": [
    "kmeans = KMeans(n_clusters=3, init=\"k-means++\", n_init=10, max_iter=300,random_state=0)\n",
    "y_pred_km = kmeans.fit_predict(data)"
   ]
  },
  {
   "cell_type": "code",
   "execution_count": 48,
   "metadata": {},
   "outputs": [
    {
     "data": {
      "text/plain": [
       "<matplotlib.collections.PathCollection at 0x7f77ed653978>"
      ]
     },
     "execution_count": 48,
     "metadata": {},
     "output_type": "execute_result"
    },
    {
     "data": {
      "image/png": "[encoded data removed]",
      "text/plain": [
       "<Figure size 432x288 with 1 Axes>"
      ]
     },
     "metadata": {},
     "output_type": "display_data"
    }
   ],
   "source": [
    "plt.scatter(data.iloc[:,0], data.iloc[:,1], c=y_pred_km)"
   ]
  },
  {
   "cell_type": "code",
   "execution_count": 49,
   "metadata": {},
   "outputs": [
    {
     "name": "stdout",
     "output_type": "stream",
     "text": [
      "Distortion: 604776163.88\n"
     ]
    }
   ],
   "source": [
    "print('Distortion: %.2f' % kmeans.inertia_)"
   ]
  },
  {
   "cell_type": "code",
   "execution_count": 50,
   "metadata": {},
   "outputs": [
    {
     "data": {
      "image/png": "[encoded data removed]",
      "text/plain": [
       "<Figure size 432x288 with 1 Axes>"
      ]
     },
     "metadata": {},
     "output_type": "display_data"
    }
   ],
   "source": [
    "distortions = []\n",
    "for i in range(1, 11):\n",
    "    kmeans = KMeans(n_clusters=i, \n",
    "                init='k-means++', \n",
    "                n_init=10, \n",
    "                max_iter=300, \n",
    "                random_state=0)\n",
    "    kmeans.fit(X)\n",
    "    distortions.append(kmeans.inertia_)\n",
    "plt.plot(range(1, 11), distortions, marker='o')\n",
    "plt.xlabel('Number of clusters')\n",
    "plt.ylabel('Distortion')\n",
    "plt.show()"
   ]
  },
  {
   "cell_type": "code",
   "execution_count": null,
   "metadata": {},
   "outputs": [],
   "source": []
  }
 ],
 "metadata": {
  "kernelspec": {
   "display_name": "Python [conda env:anaconda3]",
   "language": "python",
   "name": "conda-env-anaconda3-py"
  },
  "language_info": {
   "codemirror_mode": {
    "name": "ipython",
    "version": 3
   },
   "file_extension": ".py",
   "mimetype": "text/x-python",
   "name": "python",
   "nbconvert_exporter": "python",
   "pygments_lexer": "ipython3",
   "version": "3.5.5"
  }
 },
 "nbformat": 4,
 "nbformat_minor": 2
}
