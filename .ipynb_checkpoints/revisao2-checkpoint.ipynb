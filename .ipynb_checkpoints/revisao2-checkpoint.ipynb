{
 "cells": [
  {
   "cell_type": "code",
   "execution_count": 29,
   "metadata": {},
   "outputs": [],
   "source": [
    "%matplotlib inline\n",
    "import numpy as np\n",
    "\n",
    "from sklearn.model_selection import KFold\n",
    "from sklearn import datasets\n",
    "from sklearn import preprocessing\n",
    "\n",
    "from sklearn import metrics\n",
    "from sklearn import linear_model\n",
    "from sklearn import neighbors\n",
    "from sklearn import svm\n",
    "from sklearn import naive_bayes"
   ]
  },
  {
   "cell_type": "code",
   "execution_count": 2,
   "metadata": {},
   "outputs": [],
   "source": [
    "kfold = KFold(n_splits=5)"
   ]
  },
  {
   "cell_type": "code",
   "execution_count": 5,
   "metadata": {},
   "outputs": [],
   "source": [
    "X,y = datasets.load_boston(return_X_y=True)"
   ]
  },
  {
   "cell_type": "code",
   "execution_count": 15,
   "metadata": {},
   "outputs": [],
   "source": [
    "def regressao(model,X_,y_):\n",
    "    mae = 0.0\n",
    "    rmse = 0.0\n",
    "    for train_index,test_index in kfold.split(X):\n",
    "        X_train = X_[train_index]\n",
    "        y_train = y_[train_index]\n",
    "        X_test = X_[test_index]\n",
    "        y_test = y_[test_index]\n",
    "        \n",
    "        scale = preprocessing.StandardScaler().fit(X_train)\n",
    "        X_train_std = scale.transform(X_train)\n",
    "        X_test_std = scale.transform(X_test)\n",
    "        \n",
    "        model.fit(X_train_std,y_train)\n",
    "        y_pred = model.predict(X_test_std)\n",
    "        \n",
    "        mae += metrics.mean_absolute_error(y_test,y_pred)\n",
    "        rmse += np.sqrt(metrics.mean_squared_error(y_test,y_pred))\n",
    "    print(\"MAE: \"+ str((mae/5)) + \" RMSE: \"+ str((rmse/5)))      \n",
    "        "
   ]
  },
  {
   "cell_type": "code",
   "execution_count": 16,
   "metadata": {},
   "outputs": [
    {
     "name": "stdout",
     "output_type": "stream",
     "text": [
      "MAE: 3.8198464429403414 RMSE: 5.411216960365564\n"
     ]
    },
    {
     "name": "stderr",
     "output_type": "stream",
     "text": [
      "/home/segundo/anaconda3/lib/python3.5/site-packages/sklearn/linear_model/stochastic_gradient.py:128: FutureWarning: max_iter and tol parameters have been added in <class 'sklearn.linear_model.stochastic_gradient.SGDRegressor'> in 0.19. If both are left unset, they default to max_iter=5 and tol=None. If tol is not None, max_iter defaults to max_iter=1000. From 0.21, default max_iter will be 1000, and default tol will be 1e-3.\n",
      "  \"and default tol will be 1e-3.\" % type(self), FutureWarning)\n"
     ]
    }
   ],
   "source": [
    "modelGD = linear_model.SGDRegressor()\n",
    "regressao(modelGD,X,y)"
   ]
  },
  {
   "cell_type": "code",
   "execution_count": 17,
   "metadata": {},
   "outputs": [
    {
     "name": "stdout",
     "output_type": "stream",
     "text": [
      "MAE: 4.256574046803889 RMSE: 5.836431226523883\n"
     ]
    }
   ],
   "source": [
    "modelLR = linear_model.LinearRegression()\n",
    "regressao(modelLR,X,y)"
   ]
  },
  {
   "cell_type": "code",
   "execution_count": 19,
   "metadata": {},
   "outputs": [
    {
     "name": "stdout",
     "output_type": "stream",
     "text": [
      "MAE: 3.8481137643176084 RMSE: 5.506828743229258\n"
     ]
    }
   ],
   "source": [
    "modelKNNR = neighbors.KNeighborsRegressor()\n",
    "regressao(modelKNNR,X,y)"
   ]
  },
  {
   "cell_type": "code",
   "execution_count": 21,
   "metadata": {},
   "outputs": [
    {
     "name": "stdout",
     "output_type": "stream",
     "text": [
      "MAE: 4.412573361686947 RMSE: 6.570470836514009\n"
     ]
    }
   ],
   "source": [
    "modelSVR = svm.SVR()\n",
    "regressao(modelSVR,X,y)"
   ]
  },
  {
   "cell_type": "markdown",
   "metadata": {},
   "source": [
    "## Cla"
   ]
  },
  {
   "cell_type": "code",
   "execution_count": 23,
   "metadata": {},
   "outputs": [],
   "source": [
    "X,y = datasets.load_breast_cancer(return_X_y=True)"
   ]
  },
  {
   "cell_type": "code",
   "execution_count": 1,
   "metadata": {},
   "outputs": [],
   "source": [
    "def classification(model,X_,y_):\n",
    "    accuracy = 0.0\n",
    "    recall = 0.0\n",
    "    f1 = 0.0\n",
    "    auc = 0.0\n",
    "    for train_index, test_index in kfold.split(X):\n",
    "        X_train = X_[train_index]\n",
    "        y_train = y_[train_index]\n",
    "        X_test = X_[test_index]\n",
    "        y_test = y_[test_index]\n",
    "        \n",
    "        norm = preprocessing.MinMaxScaler().fit(X_train)\n",
    "        X_train_norm = norm.transform(X_train)\n",
    "        X_test_norm = norm.transform(X_test)\n",
    "        \n",
    "        model.fit(X_train_norm,y_train)\n",
    "        y_pred = model.predict(X_test_norm)\n",
    "        \n",
    "        accuracy += metrics.accuracy_score(y_test,y_pred)\n",
    "        recall += metrics.recall_score(y_test,y_pred)\n",
    "        f1 += metrics.f1_score(y_test,y_pred)\n",
    "        auc += metrics.roc_auc_score(y_test,y_pred)\n",
    "    print(\"accuracy: \" + str((accuracy/5)) + \"\\nrecall: \"+ str((recall/5)) +\n",
    "          \"\\nf1: \"+ str((f1/5)) + \"\\nauc: \"+ str((auc/5)))"
   ]
  },
  {
   "cell_type": "code",
   "execution_count": 27,
   "metadata": {},
   "outputs": [
    {
     "name": "stdout",
     "output_type": "stream",
     "text": [
      "accuracy: 0.9561248253376805\n",
      "recall: 0.9910003821618603\n",
      "f1: 0.9592266752446191\n",
      "auc: 0.9530603185802058\n"
     ]
    }
   ],
   "source": [
    "modelLoR = linear_model.LogisticRegression()\n",
    "classification(modelLoR,X,y)"
   ]
  },
  {
   "cell_type": "code",
   "execution_count": 28,
   "metadata": {},
   "outputs": [
    {
     "name": "stdout",
     "output_type": "stream",
     "text": [
      "accuracy: 0.9613414066138798\n",
      "recall: 0.9821089455272363\n",
      "f1: 0.9650685624365751\n",
      "auc: 0.9571711263215932\n"
     ]
    }
   ],
   "source": [
    "modelKNNC = neighbors.KNeighborsClassifier()\n",
    "classification(modelKNNC,X,y)"
   ]
  },
  {
   "cell_type": "code",
   "execution_count": 30,
   "metadata": {},
   "outputs": [
    {
     "name": "stdout",
     "output_type": "stream",
     "text": [
      "accuracy: 0.9296848315478963\n",
      "recall: 0.9499018461907605\n",
      "f1: 0.9372205053092115\n",
      "auc: 0.9259112833668098\n"
     ]
    }
   ],
   "source": [
    "modelNB = naive_bayes.GaussianNB()\n",
    "classification(modelNB,X,y)"
   ]
  },
  {
   "cell_type": "code",
   "execution_count": 31,
   "metadata": {},
   "outputs": [
    {
     "name": "stdout",
     "output_type": "stream",
     "text": [
      "accuracy: 0.9403043005744449\n",
      "recall: 0.9977011494252874\n",
      "f1: 0.9464034193639435\n",
      "auc: 0.9323649565927168\n"
     ]
    }
   ],
   "source": [
    "modelSVC = svm.SVC()\n",
    "classification(modelSVC,X,y)"
   ]
  },
  {
   "cell_type": "code",
   "execution_count": null,
   "metadata": {},
   "outputs": [],
   "source": []
  }
 ],
 "metadata": {
  "kernelspec": {
   "display_name": "Python 3",
   "language": "python",
   "name": "python3"
  },
  "language_info": {
   "codemirror_mode": {
    "name": "ipython",
    "version": 3
   },
   "file_extension": ".py",
   "mimetype": "text/x-python",
   "name": "python",
   "nbconvert_exporter": "python",
   "pygments_lexer": "ipython3",
   "version": "3.6.4"
  }
 },
 "nbformat": 4,
 "nbformat_minor": 2
}
