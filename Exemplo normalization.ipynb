{
 "cells": [
  {
   "cell_type": "code",
   "execution_count": 20,
   "metadata": {
    "collapsed": true
   },
   "outputs": [],
   "source": [
    "import numpy as np\n",
    "import seaborn as sns"
   ]
  },
  {
   "cell_type": "code",
   "execution_count": 13,
   "metadata": {
    "collapsed": false
   },
   "outputs": [
    {
     "data": {
      "text/plain": [
       "array([[ 54.88],\n",
       "       [ 71.52],\n",
       "       [ 60.28],\n",
       "       [ 54.49],\n",
       "       [ 42.37],\n",
       "       [ 64.59],\n",
       "       [ 43.76],\n",
       "       [ 89.18],\n",
       "       [ 96.37],\n",
       "       [ 38.34],\n",
       "       [ 79.17],\n",
       "       [ 52.89],\n",
       "       [ 56.8 ],\n",
       "       [ 92.56],\n",
       "       [  7.1 ],\n",
       "       [  8.71],\n",
       "       [  2.02],\n",
       "       [ 83.26],\n",
       "       [ 77.82],\n",
       "       [ 87.  ]])"
      ]
     },
     "execution_count": 13,
     "metadata": {},
     "output_type": "execute_result"
    }
   ],
   "source": [
    "np.random.seed(0)\n",
    "x = np.random.rand(20)\n",
    "x = (x*100).round(2)\n",
    "x = np.resize(x,(20,1))\n",
    "x"
   ]
  },
  {
   "cell_type": "code",
   "execution_count": 14,
   "metadata": {
    "collapsed": true
   },
   "outputs": [],
   "source": [
    "def normalize(X):\n",
    "    X_norm = np.copy(X)\n",
    "    n_cols = X.shape[1]\n",
    "    for i in range(n_cols):\n",
    "        X_norm[:, i] = (X[:, i] - np.min(X[:, i])) / (np.max(X[:, i]) - np.min(X[:, i]))\n",
    "    return X_norm"
   ]
  },
  {
   "cell_type": "code",
   "execution_count": 15,
   "metadata": {
    "collapsed": false
   },
   "outputs": [
    {
     "data": {
      "text/plain": [
       "array([[ 0.56025437],\n",
       "       [ 0.73661897],\n",
       "       [ 0.61748808],\n",
       "       [ 0.55612083],\n",
       "       [ 0.42766296],\n",
       "       [ 0.66316905],\n",
       "       [ 0.44239534],\n",
       "       [ 0.92379438],\n",
       "       [ 1.        ],\n",
       "       [ 0.38494966],\n",
       "       [ 0.81770005],\n",
       "       [ 0.53916269],\n",
       "       [ 0.58060413],\n",
       "       [ 0.95961844],\n",
       "       [ 0.05384208],\n",
       "       [ 0.0709062 ],\n",
       "       [ 0.        ],\n",
       "       [ 0.86104928],\n",
       "       [ 0.80339163],\n",
       "       [ 0.90068892]])"
      ]
     },
     "execution_count": 15,
     "metadata": {},
     "output_type": "execute_result"
    }
   ],
   "source": [
    "A = normalize(x)\n",
    "A"
   ]
  },
  {
   "cell_type": "code",
   "execution_count": null,
   "metadata": {
    "collapsed": true
   },
   "outputs": [],
   "source": []
  }
 ],
 "metadata": {
  "anaconda-cloud": {},
  "kernelspec": {
   "display_name": "Python [conda env:anaconda3]",
   "language": "python",
   "name": "conda-env-anaconda3-py"
  },
  "language_info": {
   "codemirror_mode": {
    "name": "ipython",
    "version": 3
   },
   "file_extension": ".py",
   "mimetype": "text/x-python",
   "name": "python",
   "nbconvert_exporter": "python",
   "pygments_lexer": "ipython3",
   "version": "3.5.2"
  }
 },
 "nbformat": 4,
 "nbformat_minor": 1
}
