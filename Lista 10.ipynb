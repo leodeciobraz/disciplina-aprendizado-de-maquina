{
 "cells": [
  {
   "cell_type": "markdown",
   "metadata": {},
   "source": [
    "### Lista 10\n",
    "\n",
    "#### Aluno: Leodécio Braz\n",
    "#### Matricula: 377594"
   ]
  },
  {
   "cell_type": "code",
   "execution_count": 1,
   "metadata": {},
   "outputs": [],
   "source": [
    "%matplotlib inline\n",
    "import pandas as pd\n",
    "import numpy as np\n",
    "\n",
    "from sklearn import linear_model\n",
    "from sklearn import model_selection\n",
    "from sklearn import metrics"
   ]
  },
  {
   "cell_type": "code",
   "execution_count": 2,
   "metadata": {},
   "outputs": [],
   "source": [
    "df = pd.read_csv('./csvs/binary.csv')"
   ]
  },
  {
   "cell_type": "code",
   "execution_count": 3,
   "metadata": {},
   "outputs": [
    {
     "data": {
      "text/html": [
       "<div>\n",
       "<style scoped>\n",
       "    .dataframe tbody tr th:only-of-type {\n",
       "        vertical-align: middle;\n",
       "    }\n",
       "\n",
       "    .dataframe tbody tr th {\n",
       "        vertical-align: top;\n",
       "    }\n",
       "\n",
       "    .dataframe thead th {\n",
       "        text-align: right;\n",
       "    }\n",
       "</style>\n",
       "<table border=\"1\" class=\"dataframe\">\n",
       "  <thead>\n",
       "    <tr style=\"text-align: right;\">\n",
       "      <th></th>\n",
       "      <th>admit</th>\n",
       "      <th>gre</th>\n",
       "      <th>gpa</th>\n",
       "      <th>rank</th>\n",
       "    </tr>\n",
       "  </thead>\n",
       "  <tbody>\n",
       "    <tr>\n",
       "      <th>0</th>\n",
       "      <td>0</td>\n",
       "      <td>380</td>\n",
       "      <td>3.61</td>\n",
       "      <td>3</td>\n",
       "    </tr>\n",
       "    <tr>\n",
       "      <th>1</th>\n",
       "      <td>1</td>\n",
       "      <td>660</td>\n",
       "      <td>3.67</td>\n",
       "      <td>3</td>\n",
       "    </tr>\n",
       "    <tr>\n",
       "      <th>2</th>\n",
       "      <td>1</td>\n",
       "      <td>800</td>\n",
       "      <td>4.00</td>\n",
       "      <td>1</td>\n",
       "    </tr>\n",
       "    <tr>\n",
       "      <th>3</th>\n",
       "      <td>1</td>\n",
       "      <td>640</td>\n",
       "      <td>3.19</td>\n",
       "      <td>4</td>\n",
       "    </tr>\n",
       "    <tr>\n",
       "      <th>4</th>\n",
       "      <td>0</td>\n",
       "      <td>520</td>\n",
       "      <td>2.93</td>\n",
       "      <td>4</td>\n",
       "    </tr>\n",
       "  </tbody>\n",
       "</table>\n",
       "</div>"
      ],
      "text/plain": [
       "   admit  gre   gpa  rank\n",
       "0      0  380  3.61     3\n",
       "1      1  660  3.67     3\n",
       "2      1  800  4.00     1\n",
       "3      1  640  3.19     4\n",
       "4      0  520  2.93     4"
      ]
     },
     "execution_count": 3,
     "metadata": {},
     "output_type": "execute_result"
    }
   ],
   "source": [
    "df.head(5)"
   ]
  },
  {
   "cell_type": "code",
   "execution_count": 4,
   "metadata": {},
   "outputs": [
    {
     "data": {
      "text/html": [
       "<div>\n",
       "<style scoped>\n",
       "    .dataframe tbody tr th:only-of-type {\n",
       "        vertical-align: middle;\n",
       "    }\n",
       "\n",
       "    .dataframe tbody tr th {\n",
       "        vertical-align: top;\n",
       "    }\n",
       "\n",
       "    .dataframe thead th {\n",
       "        text-align: right;\n",
       "    }\n",
       "</style>\n",
       "<table border=\"1\" class=\"dataframe\">\n",
       "  <thead>\n",
       "    <tr style=\"text-align: right;\">\n",
       "      <th></th>\n",
       "      <th>admit</th>\n",
       "      <th>gre</th>\n",
       "      <th>gpa</th>\n",
       "      <th>rank</th>\n",
       "    </tr>\n",
       "  </thead>\n",
       "  <tbody>\n",
       "    <tr>\n",
       "      <th>count</th>\n",
       "      <td>400.000000</td>\n",
       "      <td>400.000000</td>\n",
       "      <td>400.000000</td>\n",
       "      <td>400.00000</td>\n",
       "    </tr>\n",
       "    <tr>\n",
       "      <th>mean</th>\n",
       "      <td>0.317500</td>\n",
       "      <td>587.700000</td>\n",
       "      <td>3.389900</td>\n",
       "      <td>2.48500</td>\n",
       "    </tr>\n",
       "    <tr>\n",
       "      <th>std</th>\n",
       "      <td>0.466087</td>\n",
       "      <td>115.516536</td>\n",
       "      <td>0.380567</td>\n",
       "      <td>0.94446</td>\n",
       "    </tr>\n",
       "    <tr>\n",
       "      <th>min</th>\n",
       "      <td>0.000000</td>\n",
       "      <td>220.000000</td>\n",
       "      <td>2.260000</td>\n",
       "      <td>1.00000</td>\n",
       "    </tr>\n",
       "    <tr>\n",
       "      <th>25%</th>\n",
       "      <td>0.000000</td>\n",
       "      <td>520.000000</td>\n",
       "      <td>3.130000</td>\n",
       "      <td>2.00000</td>\n",
       "    </tr>\n",
       "    <tr>\n",
       "      <th>50%</th>\n",
       "      <td>0.000000</td>\n",
       "      <td>580.000000</td>\n",
       "      <td>3.395000</td>\n",
       "      <td>2.00000</td>\n",
       "    </tr>\n",
       "    <tr>\n",
       "      <th>75%</th>\n",
       "      <td>1.000000</td>\n",
       "      <td>660.000000</td>\n",
       "      <td>3.670000</td>\n",
       "      <td>3.00000</td>\n",
       "    </tr>\n",
       "    <tr>\n",
       "      <th>max</th>\n",
       "      <td>1.000000</td>\n",
       "      <td>800.000000</td>\n",
       "      <td>4.000000</td>\n",
       "      <td>4.00000</td>\n",
       "    </tr>\n",
       "  </tbody>\n",
       "</table>\n",
       "</div>"
      ],
      "text/plain": [
       "            admit         gre         gpa       rank\n",
       "count  400.000000  400.000000  400.000000  400.00000\n",
       "mean     0.317500  587.700000    3.389900    2.48500\n",
       "std      0.466087  115.516536    0.380567    0.94446\n",
       "min      0.000000  220.000000    2.260000    1.00000\n",
       "25%      0.000000  520.000000    3.130000    2.00000\n",
       "50%      0.000000  580.000000    3.395000    2.00000\n",
       "75%      1.000000  660.000000    3.670000    3.00000\n",
       "max      1.000000  800.000000    4.000000    4.00000"
      ]
     },
     "execution_count": 4,
     "metadata": {},
     "output_type": "execute_result"
    }
   ],
   "source": [
    "df.describe()"
   ]
  },
  {
   "cell_type": "code",
   "execution_count": 5,
   "metadata": {},
   "outputs": [],
   "source": [
    "X = df[['gre','gpa','rank']]\n",
    "y = df['admit']"
   ]
  },
  {
   "cell_type": "code",
   "execution_count": 6,
   "metadata": {},
   "outputs": [],
   "source": [
    "X_train, X_test, y_train, y_test = model_selection.train_test_split(X, y, test_size=0.3, stratify=y)"
   ]
  },
  {
   "cell_type": "markdown",
   "metadata": {},
   "source": [
    "### Sem Regularização"
   ]
  },
  {
   "cell_type": "code",
   "execution_count": 7,
   "metadata": {},
   "outputs": [],
   "source": [
    "modelSGD = linear_model.SGDClassifier(penalty=None,max_iter=1000)"
   ]
  },
  {
   "cell_type": "code",
   "execution_count": 8,
   "metadata": {
    "scrolled": true
   },
   "outputs": [
    {
     "data": {
      "text/plain": [
       "SGDClassifier(alpha=0.0001, average=False, class_weight=None, epsilon=0.1,\n",
       "       eta0=0.0, fit_intercept=True, l1_ratio=0.15,\n",
       "       learning_rate='optimal', loss='hinge', max_iter=1000, n_iter=None,\n",
       "       n_jobs=1, penalty=None, power_t=0.5, random_state=None,\n",
       "       shuffle=True, tol=None, verbose=0, warm_start=False)"
      ]
     },
     "execution_count": 8,
     "metadata": {},
     "output_type": "execute_result"
    }
   ],
   "source": [
    "modelSGD.fit(X_train,y_train)"
   ]
  },
  {
   "cell_type": "code",
   "execution_count": 9,
   "metadata": {},
   "outputs": [],
   "source": [
    "y_pred = modelSGD.predict(X_test)"
   ]
  },
  {
   "cell_type": "code",
   "execution_count": 10,
   "metadata": {},
   "outputs": [
    {
     "name": "stdout",
     "output_type": "stream",
     "text": [
      "Sem regularização:  \n",
      "intercept:  [-445.41027628] \n",
      "coef:  [[    8.71612482   287.686198   -4961.25387753]] \n",
      "accuracy:  0.7166666666666667\n"
     ]
    }
   ],
   "source": [
    "acc = metrics.accuracy_score(y_test,y_pred)\n",
    "print('Sem regularização: ', \"\\nintercept: \", modelSGD.intercept_, \"\\ncoef: \",modelSGD.coef_,\"\\naccuracy: \",acc)"
   ]
  },
  {
   "cell_type": "markdown",
   "metadata": {},
   "source": [
    "### Com Reguralização L1\n",
    "##### alpha=  0.0001"
   ]
  },
  {
   "cell_type": "code",
   "execution_count": 11,
   "metadata": {},
   "outputs": [
    {
     "name": "stdout",
     "output_type": "stream",
     "text": [
      "Regularização L1 \n",
      "intercept:  [-408.34789388] \n",
      "coef:  [[   25.21440009   458.78678063 -4930.80784904]] \n",
      "accuracy:  0.5583333333333333\n"
     ]
    }
   ],
   "source": [
    "#for i in alpha:\n",
    "modelSGD = linear_model.SGDClassifier(penalty='l1',alpha=0.0001,max_iter=1000)\n",
    "modelSGD.fit(X_train,y_train)\n",
    "y_pred = modelSGD.predict(X_test)\n",
    "acc = metrics.accuracy_score(y_test,y_pred)\n",
    "print('Regularização L1', \"\\nintercept: \", modelSGD.intercept_, \"\\ncoef: \",modelSGD.coef_,\"\\naccuracy: \",acc)"
   ]
  },
  {
   "cell_type": "markdown",
   "metadata": {},
   "source": [
    "##### alpha= 0.01"
   ]
  },
  {
   "cell_type": "code",
   "execution_count": 12,
   "metadata": {},
   "outputs": [
    {
     "name": "stdout",
     "output_type": "stream",
     "text": [
      "Regularização L1 \n",
      "intercept:  [-1.77946046] \n",
      "coef:  [[ 0.02078299  0.         -4.22076717]] \n",
      "accuracy:  0.6083333333333333\n"
     ]
    }
   ],
   "source": [
    "modelSGD = linear_model.SGDClassifier(penalty='l1',alpha=0.1,max_iter=1000)\n",
    "modelSGD.fit(X_train,y_train)\n",
    "y_pred = modelSGD.predict(X_test)\n",
    "acc = metrics.accuracy_score(y_test,y_pred)\n",
    "print('Regularização L1', \"\\nintercept: \", modelSGD.intercept_, \"\\ncoef: \",modelSGD.coef_,\"\\naccuracy: \",acc)"
   ]
  },
  {
   "cell_type": "markdown",
   "metadata": {},
   "source": [
    "##### alpha= 1"
   ]
  },
  {
   "cell_type": "code",
   "execution_count": 13,
   "metadata": {},
   "outputs": [
    {
     "name": "stdout",
     "output_type": "stream",
     "text": [
      "Regularização L1 \n",
      "intercept:  [-0.36480248] \n",
      "coef:  [[-0.00335393  0.          0.        ]] \n",
      "accuracy:  0.6833333333333333\n"
     ]
    }
   ],
   "source": [
    "modelSGD = linear_model.SGDClassifier(penalty='l1',alpha=1,max_iter=1000)\n",
    "modelSGD.fit(X_train,y_train)\n",
    "y_pred = modelSGD.predict(X_test)\n",
    "acc = metrics.accuracy_score(y_test,y_pred)\n",
    "print('Regularização L1', \"\\nintercept: \", modelSGD.intercept_, \"\\ncoef: \",modelSGD.coef_,\"\\naccuracy: \",acc)"
   ]
  },
  {
   "cell_type": "markdown",
   "metadata": {},
   "source": [
    "##### alpha= 10"
   ]
  },
  {
   "cell_type": "code",
   "execution_count": 14,
   "metadata": {},
   "outputs": [
    {
     "name": "stdout",
     "output_type": "stream",
     "text": [
      "Regularização L1 \n",
      "intercept:  [-0.08024434] \n",
      "coef:  [[-57.14998539   0.           0.        ]] \n",
      "accuracy:  0.6833333333333333\n"
     ]
    }
   ],
   "source": [
    "modelSGD = linear_model.SGDClassifier(penalty='l1',alpha=10,max_iter=1000)\n",
    "modelSGD.fit(X_train,y_train)\n",
    "y_pred = modelSGD.predict(X_test)\n",
    "acc = metrics.accuracy_score(y_test,y_pred)\n",
    "print('Regularização L1', \"\\nintercept: \", modelSGD.intercept_, \"\\ncoef: \",modelSGD.coef_,\"\\naccuracy: \",acc)"
   ]
  },
  {
   "cell_type": "markdown",
   "metadata": {},
   "source": [
    "##### alpha= 100"
   ]
  },
  {
   "cell_type": "code",
   "execution_count": 15,
   "metadata": {},
   "outputs": [
    {
     "name": "stdout",
     "output_type": "stream",
     "text": [
      "Regularização L1 \n",
      "intercept:  [-0.28101786] \n",
      "coef:  [[-54.19725916   0.           0.        ]] \n",
      "accuracy:  0.6833333333333333\n"
     ]
    }
   ],
   "source": [
    "modelSGD = linear_model.SGDClassifier(penalty='l1',alpha=100,max_iter=1000)\n",
    "modelSGD.fit(X_train,y_train)\n",
    "y_pred = modelSGD.predict(X_test)\n",
    "acc = metrics.accuracy_score(y_test,y_pred)\n",
    "print('Regularização L1', \"\\nintercept: \", modelSGD.intercept_, \"\\ncoef: \",modelSGD.coef_,\"\\naccuracy: \",acc)"
   ]
  },
  {
   "cell_type": "markdown",
   "metadata": {},
   "source": [
    "### Com Regularização L2\n",
    "##### alpha= 0.0001"
   ]
  },
  {
   "cell_type": "code",
   "execution_count": 16,
   "metadata": {},
   "outputs": [
    {
     "name": "stdout",
     "output_type": "stream",
     "text": [
      "Regularização L2 \n",
      "intercept:  [-562.96876354] \n",
      "coef:  [[   4.27047783   49.08665155 -999.36298706]] \n",
      "accuracy:  0.6583333333333333\n"
     ]
    }
   ],
   "source": [
    "modelSGD = linear_model.SGDClassifier(penalty='l2',alpha=0.0001,max_iter=1000)\n",
    "modelSGD.fit(X_train,y_train)\n",
    "y_pred = modelSGD.predict(X_test)\n",
    "acc = metrics.accuracy_score(y_test,y_pred)\n",
    "print('Regularização L2',\"\\nintercept: \", modelSGD.intercept_, \"\\ncoef: \",modelSGD.coef_,\"\\naccuracy: \",acc)"
   ]
  },
  {
   "cell_type": "markdown",
   "metadata": {},
   "source": [
    "##### alpha= 0.01"
   ]
  },
  {
   "cell_type": "code",
   "execution_count": 17,
   "metadata": {},
   "outputs": [
    {
     "name": "stdout",
     "output_type": "stream",
     "text": [
      "Regularização L2 \n",
      "intercept:  [-5.25902835] \n",
      "coef:  [[ -0.10713114   0.78191091 -10.04961519]] \n",
      "accuracy:  0.6833333333333333\n"
     ]
    }
   ],
   "source": [
    "modelSGD = linear_model.SGDClassifier(penalty='l2',alpha=0.01,max_iter=1000)\n",
    "modelSGD.fit(X_train,y_train)\n",
    "y_pred = modelSGD.predict(X_test)\n",
    "acc = metrics.accuracy_score(y_test,y_pred)\n",
    "print('Regularização L2',\"\\nintercept: \", modelSGD.intercept_, \"\\ncoef: \",modelSGD.coef_,\"\\naccuracy: \",acc)"
   ]
  },
  {
   "cell_type": "markdown",
   "metadata": {},
   "source": [
    "##### alpha= 1"
   ]
  },
  {
   "cell_type": "code",
   "execution_count": 18,
   "metadata": {},
   "outputs": [
    {
     "name": "stdout",
     "output_type": "stream",
     "text": [
      "Regularização L2 \n",
      "intercept:  [0.30635564] \n",
      "coef:  [[ 0.00078571 -0.00848221 -0.14716786]] \n",
      "accuracy:  0.3416666666666667\n"
     ]
    }
   ],
   "source": [
    "modelSGD = linear_model.SGDClassifier(penalty='l2',alpha=1,max_iter=1000)\n",
    "modelSGD.fit(X_train,y_train)\n",
    "y_pred = modelSGD.predict(X_test)\n",
    "acc = metrics.accuracy_score(y_test,y_pred)\n",
    "print('Regularização L2',\"\\nintercept: \", modelSGD.intercept_, \"\\ncoef: \",modelSGD.coef_,\"\\naccuracy: \",acc)"
   ]
  },
  {
   "cell_type": "markdown",
   "metadata": {},
   "source": [
    "##### alpha= 10"
   ]
  },
  {
   "cell_type": "code",
   "execution_count": 19,
   "metadata": {},
   "outputs": [
    {
     "name": "stdout",
     "output_type": "stream",
     "text": [
      "Regularização L2 \n",
      "intercept:  [-0.53083302] \n",
      "coef:  [[-0.00039286 -0.00370606 -0.02121471]] \n",
      "accuracy:  0.6833333333333333\n"
     ]
    }
   ],
   "source": [
    "modelSGD = linear_model.SGDClassifier(penalty='l2',alpha=10,max_iter=1000)\n",
    "modelSGD.fit(X_train,y_train)\n",
    "y_pred = modelSGD.predict(X_test)\n",
    "acc = metrics.accuracy_score(y_test,y_pred)\n",
    "print('Regularização L2',\"\\nintercept: \", modelSGD.intercept_, \"\\ncoef: \",modelSGD.coef_,\"\\naccuracy: \",acc)"
   ]
  },
  {
   "cell_type": "markdown",
   "metadata": {},
   "source": [
    "##### alpha= 100"
   ]
  },
  {
   "cell_type": "code",
   "execution_count": 20,
   "metadata": {},
   "outputs": [
    {
     "name": "stdout",
     "output_type": "stream",
     "text": [
      "Regularização L2 \n",
      "intercept:  [0.30534077] \n",
      "coef:  [[-0.00197001 -0.001148   -0.00321608]] \n",
      "accuracy:  0.6833333333333333\n"
     ]
    }
   ],
   "source": [
    "modelSGD = linear_model.SGDClassifier(penalty='l2',alpha=100,max_iter=1000)\n",
    "modelSGD.fit(X_train,y_train)\n",
    "y_pred = modelSGD.predict(X_test)\n",
    "acc = metrics.accuracy_score(y_test,y_pred)\n",
    "print('Regularização L2',\"\\nintercept: \", modelSGD.intercept_, \"\\ncoef: \",modelSGD.coef_,\"\\naccuracy: \",acc)"
   ]
  },
  {
   "cell_type": "markdown",
   "metadata": {},
   "source": [
    "### Com Regularização Elastic Net\n",
    "##### alpha= 0.0001"
   ]
  },
  {
   "cell_type": "code",
   "execution_count": 21,
   "metadata": {},
   "outputs": [
    {
     "name": "stdout",
     "output_type": "stream",
     "text": [
      "Regularização Elastic Net \n",
      "intercept:  [-516.23625619] \n",
      "coef:  [[   18.22454685    81.18857038 -1109.53934003]] \n",
      "accuracy:  0.31666666666666665\n"
     ]
    }
   ],
   "source": [
    "modelSGD = linear_model.SGDClassifier(penalty='elasticnet',alpha=0.0001,max_iter=1000)\n",
    "modelSGD.fit(X_train,y_train)\n",
    "y_pred = modelSGD.predict(X_test)\n",
    "acc = metrics.accuracy_score(y_test,y_pred)\n",
    "print('Regularização Elastic Net',\"\\nintercept: \", modelSGD.intercept_, \"\\ncoef: \",modelSGD.coef_,\"\\naccuracy: \",acc)"
   ]
  },
  {
   "cell_type": "markdown",
   "metadata": {},
   "source": [
    "##### alpha= 0.01"
   ]
  },
  {
   "cell_type": "code",
   "execution_count": 22,
   "metadata": {},
   "outputs": [
    {
     "name": "stdout",
     "output_type": "stream",
     "text": [
      "Regularização Elastic Net \n",
      "intercept:  [-10.21588928] \n",
      "coef:  [[  0.08647452   0.15312602 -11.33286391]] \n",
      "accuracy:  0.5333333333333333\n"
     ]
    }
   ],
   "source": [
    "modelSGD = linear_model.SGDClassifier(penalty='elasticnet',alpha=0.01,max_iter=1000)\n",
    "modelSGD.fit(X_train,y_train)\n",
    "y_pred = modelSGD.predict(X_test)\n",
    "acc = metrics.accuracy_score(y_test,y_pred)\n",
    "print('Regularização Elastic Net',\"\\nintercept: \", modelSGD.intercept_, \"\\ncoef: \",modelSGD.coef_,\"\\naccuracy: \",acc)"
   ]
  },
  {
   "cell_type": "markdown",
   "metadata": {},
   "source": [
    "##### alpha= 1"
   ]
  },
  {
   "cell_type": "code",
   "execution_count": 23,
   "metadata": {},
   "outputs": [
    {
     "name": "stdout",
     "output_type": "stream",
     "text": [
      "Regularização Elastic Net \n",
      "intercept:  [-0.88341301] \n",
      "coef:  [[ 0.          0.         -0.02906989]] \n",
      "accuracy:  0.6833333333333333\n"
     ]
    }
   ],
   "source": [
    "modelSGD = linear_model.SGDClassifier(penalty='elasticnet',alpha=1,max_iter=1000)\n",
    "modelSGD.fit(X_train,y_train)\n",
    "y_pred = modelSGD.predict(X_test)\n",
    "acc = metrics.accuracy_score(y_test,y_pred)\n",
    "print('Regularização Elastic Net',\"\\nintercept: \", modelSGD.intercept_, \"\\ncoef: \",modelSGD.coef_,\"\\naccuracy: \",acc)"
   ]
  },
  {
   "cell_type": "markdown",
   "metadata": {},
   "source": [
    "##### alpha= 10"
   ]
  },
  {
   "cell_type": "code",
   "execution_count": 24,
   "metadata": {},
   "outputs": [
    {
     "name": "stdout",
     "output_type": "stream",
     "text": [
      "Regularização Elastic Net \n",
      "intercept:  [0.37203431] \n",
      "coef:  [[-0.00196009  0.          0.        ]] \n",
      "accuracy:  0.6833333333333333\n"
     ]
    }
   ],
   "source": [
    "modelSGD = linear_model.SGDClassifier(penalty='elasticnet',alpha=10,max_iter=1000)\n",
    "modelSGD.fit(X_train,y_train)\n",
    "y_pred = modelSGD.predict(X_test)\n",
    "acc = metrics.accuracy_score(y_test,y_pred)\n",
    "print('Regularização Elastic Net',\"\\nintercept: \", modelSGD.intercept_, \"\\ncoef: \",modelSGD.coef_,\"\\naccuracy: \",acc)"
   ]
  },
  {
   "cell_type": "markdown",
   "metadata": {},
   "source": [
    "##### alpha= 100"
   ]
  },
  {
   "cell_type": "code",
   "execution_count": 25,
   "metadata": {},
   "outputs": [
    {
     "name": "stdout",
     "output_type": "stream",
     "text": [
      "Regularização Elastic Net \n",
      "intercept:  [-0.31090242] \n",
      "coef:  [[-0.00099939  0.          0.        ]] \n",
      "accuracy:  0.6833333333333333\n"
     ]
    }
   ],
   "source": [
    "modelSGD = linear_model.SGDClassifier(penalty='elasticnet',alpha=100,max_iter=1000)\n",
    "modelSGD.fit(X_train,y_train)\n",
    "y_pred = modelSGD.predict(X_test)\n",
    "acc = metrics.accuracy_score(y_test,y_pred)\n",
    "print('Regularização Elastic Net',\"\\nintercept: \", modelSGD.intercept_, \"\\ncoef: \",modelSGD.coef_,\"\\naccuracy: \",acc)"
   ]
  },
  {
   "cell_type": "code",
   "execution_count": null,
   "metadata": {},
   "outputs": [],
   "source": []
  }
 ],
 "metadata": {
  "kernelspec": {
   "display_name": "Python [default]",
   "language": "python",
   "name": "python3"
  },
  "language_info": {
   "codemirror_mode": {
    "name": "ipython",
    "version": 3
   },
   "file_extension": ".py",
   "mimetype": "text/x-python",
   "name": "python",
   "nbconvert_exporter": "python",
   "pygments_lexer": "ipython3",
   "version": "3.5.5"
  }
 },
 "nbformat": 4,
 "nbformat_minor": 2
}
